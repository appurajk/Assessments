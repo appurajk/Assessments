{
  "nbformat": 4,
  "nbformat_minor": 0,
  "metadata": {
    "colab": {
      "provenance": [],
      "include_colab_link": true
    },
    "kernelspec": {
      "name": "python3",
      "display_name": "Python 3"
    },
    "language_info": {
      "name": "python"
    }
  },
  "cells": [
    {
      "cell_type": "markdown",
      "metadata": {
        "id": "view-in-github",
        "colab_type": "text"
      },
      "source": [
        "<a href=\"https://colab.research.google.com/github/appurajk/Assessments/blob/main/Dictionaries%26Sets.ipynb\" target=\"_parent\"><img src=\"https://colab.research.google.com/assets/colab-badge.svg\" alt=\"Open In Colab\"/></a>"
      ]
    },
    {
      "cell_type": "markdown",
      "source": [
        "### Dictionaries"
      ],
      "metadata": {
        "id": "Z1N9e3uh0l5_"
      }
    },
    {
      "cell_type": "code",
      "execution_count": null,
      "metadata": {
        "id": "Nt2a59dryQIL"
      },
      "outputs": [],
      "source": [
        "# Hotel dictionary for key and room number\n",
        "register = {\n",
        "    \"A\" : 100,\n",
        "    \"B\" : 105,\n",
        "    \"Z\" : 700\n",
        "}"
      ]
    },
    {
      "cell_type": "code",
      "source": [
        "print(type(register))"
      ],
      "metadata": {
        "colab": {
          "base_uri": "https://localhost:8080/"
        },
        "id": "gzFljeTL059o",
        "outputId": "97fb7814-567f-4ec8-84b7-e238af2ddd6a"
      },
      "execution_count": null,
      "outputs": [
        {
          "output_type": "stream",
          "name": "stdout",
          "text": [
            "<class 'dict'>\n"
          ]
        }
      ]
    },
    {
      "cell_type": "code",
      "source": [
        "# Find room number for a key ( Get )\n",
        "\n",
        "print(register[\"A\"])"
      ],
      "metadata": {
        "colab": {
          "base_uri": "https://localhost:8080/"
        },
        "id": "2E_cYUYm3wlL",
        "outputId": "8097d041-b160-4dab-d154-932f5710fd43"
      },
      "execution_count": null,
      "outputs": [
        {
          "output_type": "stream",
          "name": "stdout",
          "text": [
            "101\n"
          ]
        }
      ]
    },
    {
      "cell_type": "code",
      "source": [
        "# New customer enters hotel ( Add )\n",
        "\n",
        "register[\"H\"] = 605\n",
        "print(register)\n",
        "\n",
        "# No order of data\n",
        "# No indexes"
      ],
      "metadata": {
        "colab": {
          "base_uri": "https://localhost:8080/"
        },
        "id": "qakVW4A71ITJ",
        "outputId": "e19bc6c9-3c03-4bd2-9142-aa00f99bb0e6"
      },
      "execution_count": null,
      "outputs": [
        {
          "output_type": "stream",
          "name": "stdout",
          "text": [
            "{'A': 100, 'B': 105, 'Z': 700, 'H': 605}\n"
          ]
        }
      ]
    },
    {
      "cell_type": "code",
      "source": [
        "# Customer changes room ( Modify )\n",
        "\n",
        "register[\"A\"] = 101\n",
        "print(register)"
      ],
      "metadata": {
        "colab": {
          "base_uri": "https://localhost:8080/"
        },
        "id": "tyXNnc-51uRg",
        "outputId": "22be36d9-4dd1-47d9-af99-e51917ac4248"
      },
      "execution_count": null,
      "outputs": [
        {
          "output_type": "stream",
          "name": "stdout",
          "text": [
            "{'A': 101, 'B': 105, 'Z': 700, 'H': 605}\n"
          ]
        }
      ]
    },
    {
      "cell_type": "code",
      "source": [
        "# Customer wants duplicate key ( Unique keys, Duplicate values )\n",
        "\n",
        "register[\"M\"] = 101\n",
        "print(register)\n",
        "\n",
        "# Different keys can have the same value\n",
        "\n",
        "# One key can not refer to two values\n",
        "# Not possible\n",
        "# {\n",
        "#     A: 100,\n",
        "#     A: 101\n",
        "# }"
      ],
      "metadata": {
        "colab": {
          "base_uri": "https://localhost:8080/"
        },
        "id": "iRb6aEY52If-",
        "outputId": "3f9877db-4b69-460b-9f9f-5dd7e1b367c7"
      },
      "execution_count": null,
      "outputs": [
        {
          "output_type": "stream",
          "name": "stdout",
          "text": [
            "{'A': 101, 'B': 105, 'Z': 700, 'H': 605, 'M': 101}\n"
          ]
        }
      ]
    },
    {
      "cell_type": "code",
      "source": [
        "# Guest is leaving hotel ( Delete )\n",
        "\n",
        "# Doesn't return value\n",
        "del register[\"B\"]\n",
        "print(register)\n",
        "\n",
        "# Returns value\n",
        "room_n = register.pop(\"H\")\n",
        "print(room_n, register)"
      ],
      "metadata": {
        "colab": {
          "base_uri": "https://localhost:8080/"
        },
        "id": "ZA9gUZho3DLZ",
        "outputId": "863de68b-5ba1-48a1-e102-fe64681a6434"
      },
      "execution_count": null,
      "outputs": [
        {
          "output_type": "stream",
          "name": "stdout",
          "text": [
            "{'A': 101, 'Z': 700, 'H': 605, 'M': 101}\n",
            "605 {'A': 101, 'Z': 700, 'M': 101}\n"
          ]
        }
      ]
    },
    {
      "cell_type": "code",
      "source": [
        "# Check if key assigned to a room ( Key in dict )\n",
        "\n",
        "print(\"B\" in register)\n",
        "print(\"M\" in register)"
      ],
      "metadata": {
        "colab": {
          "base_uri": "https://localhost:8080/"
        },
        "id": "8Cp_jAyn3855",
        "outputId": "bc57d9ca-7d89-4d98-b36f-16cfafb46f7b"
      },
      "execution_count": null,
      "outputs": [
        {
          "output_type": "stream",
          "name": "stdout",
          "text": [
            "False\n",
            "True\n"
          ]
        }
      ]
    },
    {
      "cell_type": "code",
      "source": [
        "# Quiz 1\n",
        "\n",
        "A = {\n",
        "  2 : 3,\n",
        "  1 : 2,\n",
        "  0 : 1\n",
        "}\n",
        "print(A[0]-A[2])\n",
        "\n",
        "\n",
        "# A[0] -> 1\n",
        "# For key 0, room number is 1\n",
        "# A[2] -> 3\n",
        "# For key 2, room number is 3\n",
        "# A[0] - A[2] = 1 - 3 = -2"
      ],
      "metadata": {
        "id": "3mLPJrtx4iGb"
      },
      "execution_count": null,
      "outputs": []
    },
    {
      "cell_type": "markdown",
      "source": [
        "#### Iterating over a dictionary"
      ],
      "metadata": {
        "id": "NAsreDI95eSA"
      }
    },
    {
      "cell_type": "code",
      "source": [
        "print(register)"
      ],
      "metadata": {
        "colab": {
          "base_uri": "https://localhost:8080/"
        },
        "id": "ljIaUxvk5jwQ",
        "outputId": "d66ede90-a142-4491-be61-1d33b8d780ae"
      },
      "execution_count": null,
      "outputs": [
        {
          "output_type": "stream",
          "name": "stdout",
          "text": [
            "{'A': 101, 'Z': 700, 'M': 101}\n"
          ]
        }
      ]
    },
    {
      "cell_type": "code",
      "source": [
        "# Approach 1 -> Iterate over keys\n",
        "\n",
        "for key in register.keys() :\n",
        "  print(key, end = ' ')"
      ],
      "metadata": {
        "colab": {
          "base_uri": "https://localhost:8080/"
        },
        "id": "XeoYKadR5ZAa",
        "outputId": "f0f6eacb-e44b-40e0-a921-4274edf727b9"
      },
      "execution_count": null,
      "outputs": [
        {
          "output_type": "stream",
          "name": "stdout",
          "text": [
            "A Z M "
          ]
        }
      ]
    },
    {
      "cell_type": "code",
      "source": [
        "# Approach 2 -> Iterate over values\n",
        "\n",
        "for value in register.values() :\n",
        "  print(value, end = ' ')"
      ],
      "metadata": {
        "colab": {
          "base_uri": "https://localhost:8080/"
        },
        "id": "1Y4p6TSr5ygt",
        "outputId": "d9f19772-d775-4a88-aed6-383669576961"
      },
      "execution_count": null,
      "outputs": [
        {
          "output_type": "stream",
          "name": "stdout",
          "text": [
            "101 700 101 "
          ]
        }
      ]
    },
    {
      "cell_type": "code",
      "source": [
        "# Approach 3 -> Iterate over key, value pairs\n",
        "\n",
        "for key, value in register.items() :\n",
        "  print(key, value)"
      ],
      "metadata": {
        "colab": {
          "base_uri": "https://localhost:8080/"
        },
        "id": "VyrG7ny657oA",
        "outputId": "b663e675-89d8-4c7e-b74b-a36ae5994bef"
      },
      "execution_count": null,
      "outputs": [
        {
          "output_type": "stream",
          "name": "stdout",
          "text": [
            "A 101\n",
            "Z 700\n",
            "M 101\n"
          ]
        }
      ]
    },
    {
      "cell_type": "code",
      "source": [
        "# string -> int\n",
        "# int -> int\n",
        "\n",
        "random = {\n",
        "    \"Aarnav\": 25,\n",
        "    12.3: True,\n",
        "    1: (3, 4)\n",
        "}\n",
        "\n",
        "print(random)\n",
        "print(len(random))"
      ],
      "metadata": {
        "colab": {
          "base_uri": "https://localhost:8080/"
        },
        "id": "vLoB7SyE6GSR",
        "outputId": "60a71683-741b-4fdf-9a36-511858359463"
      },
      "execution_count": null,
      "outputs": [
        {
          "output_type": "stream",
          "name": "stdout",
          "text": [
            "{'Aarnav': 25, 12.3: True, 1: (3, 4)}\n",
            "3\n"
          ]
        }
      ]
    },
    {
      "cell_type": "code",
      "source": [
        "# Q1 : Find the frequency of vowels in the sentence\n",
        "# Note - string is in small case\n",
        "\n",
        "# Input : \"hello guys ! my name is aarnav. i'm 25 years old.\"\n",
        "# Output :\n",
        "# {\n",
        "#   'a': 5,\n",
        "#   'e': 3,\n",
        "#   'i': 2,\n",
        "#   'o': 2,\n",
        "#   'u': 1\n",
        "# }\n",
        "\n",
        "s = input()\n",
        "freq = {'a': 0, 'e': 0, 'i': 0, 'o': 0, 'u': 0}\n",
        "\n",
        "# Hint\n",
        "# freq['a'] = freq['a'] + 1\n",
        "# print(freq['a'])\n",
        "\n",
        "for c in s :\n",
        "  # check if character is vowel\n",
        "  if c in freq :\n",
        "    # c is a vowel\n",
        "    # increase frequency of c in map by 1\n",
        "    freq[c] = freq[c] + 1\n",
        "\n",
        "print(freq)"
      ],
      "metadata": {
        "colab": {
          "base_uri": "https://localhost:8080/"
        },
        "id": "oV4b64NH6-cB",
        "outputId": "dcb3f4e9-e2fb-4fc7-e5e0-a2189caa2372"
      },
      "execution_count": null,
      "outputs": [
        {
          "output_type": "stream",
          "name": "stdout",
          "text": [
            "hello guys ! my name is aarnav. i'm 25 years old.\n",
            "{'a': 5, 'e': 3, 'i': 2, 'o': 2, 'u': 1}\n"
          ]
        }
      ]
    },
    {
      "cell_type": "code",
      "source": [
        "# Q2 : Find the frequency of all characters in the sentence\n",
        "# Try this question :)\n",
        "# Note - string is in small case\n",
        "\n",
        "# Input : \"hello guys ! my name is aarnav. i'm 25 years old.\"\n",
        "\n",
        "s = input()\n",
        "freq = {}\n",
        "\n",
        "# c = 'h'\n",
        "# freq['h'] = freq['h'] + 1\n",
        "for c in s :\n",
        "  if c.isalpha() :\n",
        "    if c in freq :\n",
        "      # if c already in map, increase frequency by 1\n",
        "      freq[c] = freq[c] + 1\n",
        "    else :\n",
        "      # else add c to the map\n",
        "      freq[c] = 1\n",
        "\n",
        "print(freq)\n",
        "\n",
        "# \"hehe\"\n",
        "# freq = {}\n",
        "# {'h': 1}\n",
        "# {'h': 1, 'e': 1}\n",
        "# {'h': 2, 'e': 1}\n",
        "# {'h': 2, 'e': 2}"
      ],
      "metadata": {
        "colab": {
          "base_uri": "https://localhost:8080/"
        },
        "id": "UlxFVGbm_Fy-",
        "outputId": "6bf33ee7-11b3-4838-9302-6d9527eba8c3"
      },
      "execution_count": null,
      "outputs": [
        {
          "output_type": "stream",
          "name": "stdout",
          "text": [
            "hello guys ! my name is aarnav. i'm 25 years old.\n",
            "{'h': 1, 'e': 3, 'l': 3, 'o': 2, 'g': 1, 'u': 1, 'y': 3, 's': 3, 'm': 3, 'n': 2, 'a': 5, 'i': 2, 'r': 2, 'v': 1, 'd': 1}\n"
          ]
        }
      ]
    },
    {
      "cell_type": "markdown",
      "source": [
        "### Sets"
      ],
      "metadata": {
        "id": "sxhiGlgcGDB_"
      }
    },
    {
      "cell_type": "code",
      "source": [
        "A = {}\n",
        "print(type(A))"
      ],
      "metadata": {
        "colab": {
          "base_uri": "https://localhost:8080/"
        },
        "id": "e5gsQAdcGFVX",
        "outputId": "22409514-8b96-4f5a-eaad-b68551777af1"
      },
      "execution_count": null,
      "outputs": [
        {
          "output_type": "stream",
          "name": "stdout",
          "text": [
            "<class 'dict'>\n"
          ]
        }
      ]
    },
    {
      "cell_type": "code",
      "source": [
        "# All items in set are unique\n",
        "st = set()\n",
        "print(type(st))\n",
        "print(len(st))"
      ],
      "metadata": {
        "colab": {
          "base_uri": "https://localhost:8080/"
        },
        "id": "JF55KOJAGj2M",
        "outputId": "13a79742-9d55-4d85-b79e-2c2cb25984a9"
      },
      "execution_count": null,
      "outputs": [
        {
          "output_type": "stream",
          "name": "stdout",
          "text": [
            "<class 'set'>\n",
            "0\n"
          ]
        }
      ]
    },
    {
      "cell_type": "code",
      "source": [
        "# Adding elements\n",
        "\n",
        "A = set()\n",
        "\n",
        "A.add(1)\n",
        "A.add(2)\n",
        "A.add(3)\n",
        "A.add(3)\n",
        "A.add(3)\n",
        "print(A)"
      ],
      "metadata": {
        "colab": {
          "base_uri": "https://localhost:8080/"
        },
        "id": "uN17d9xaG7Bx",
        "outputId": "df52aa39-f354-4469-da7e-568f3e5a8666"
      },
      "execution_count": null,
      "outputs": [
        {
          "output_type": "stream",
          "name": "stdout",
          "text": [
            "{1, 2, 3}\n"
          ]
        }
      ]
    },
    {
      "cell_type": "code",
      "source": [
        "# Check if element in set\n",
        "\n",
        "print(1 in A)\n",
        "print(-1 in A)"
      ],
      "metadata": {
        "colab": {
          "base_uri": "https://localhost:8080/"
        },
        "id": "_Y_fQoPwHMpH",
        "outputId": "54598899-3824-4c04-e2db-b1b555d39ca0"
      },
      "execution_count": null,
      "outputs": [
        {
          "output_type": "stream",
          "name": "stdout",
          "text": [
            "True\n",
            "False\n"
          ]
        }
      ]
    },
    {
      "cell_type": "code",
      "source": [
        "# Delete an item\n",
        "\n",
        "A.remove(1)\n",
        "print(A)"
      ],
      "metadata": {
        "id": "VhvyX126HWdf"
      },
      "execution_count": null,
      "outputs": []
    },
    {
      "cell_type": "markdown",
      "source": [
        "### Set specific operations"
      ],
      "metadata": {
        "id": "HhxFlgeMH1B8"
      }
    },
    {
      "cell_type": "code",
      "source": [
        "A = {1, 7, 3, 5, 9}\n",
        "B = {7, 6, 2, 9, 4, -1}"
      ],
      "metadata": {
        "id": "T6R6OvHdJVcP"
      },
      "execution_count": null,
      "outputs": []
    },
    {
      "cell_type": "code",
      "source": [
        "# Union\n",
        "\n",
        "print(A.union(B))\n",
        "print(B.union(A))"
      ],
      "metadata": {
        "colab": {
          "base_uri": "https://localhost:8080/"
        },
        "id": "rsqKOXXrJajn",
        "outputId": "fb9a69c2-8e09-4aa9-9e20-6d8e71675280"
      },
      "execution_count": null,
      "outputs": [
        {
          "output_type": "stream",
          "name": "stdout",
          "text": [
            "{1, 2, 3, 4, 5, 6, 7, 9, -1}\n",
            "{1, 2, 3, 4, 5, 6, 7, 9, -1}\n"
          ]
        }
      ]
    },
    {
      "cell_type": "code",
      "source": [
        "# Intersection\n",
        "\n",
        "print(A.intersection(B))\n",
        "print(B.intersection(A))"
      ],
      "metadata": {
        "colab": {
          "base_uri": "https://localhost:8080/"
        },
        "id": "XqNDHOFBJlki",
        "outputId": "7975c441-ca09-4dca-e998-a4bd9043a72e"
      },
      "execution_count": null,
      "outputs": [
        {
          "output_type": "stream",
          "name": "stdout",
          "text": [
            "{9, 7}\n",
            "{9, 7}\n"
          ]
        }
      ]
    },
    {
      "cell_type": "code",
      "source": [
        "# Difference\n",
        "\n",
        "print(A-B)\n",
        "print(B-A)"
      ],
      "metadata": {
        "colab": {
          "base_uri": "https://localhost:8080/"
        },
        "id": "QeIQot5PJsdN",
        "outputId": "4e816094-cbf3-410d-e87d-44be764367bc"
      },
      "execution_count": null,
      "outputs": [
        {
          "output_type": "stream",
          "name": "stdout",
          "text": [
            "{1, 3, 5}\n",
            "{2, 4, 6, -1}\n"
          ]
        }
      ]
    },
    {
      "cell_type": "code",
      "source": [
        "# Iteration\n",
        "\n",
        "for item in A :\n",
        "  print(item, end = ' ')"
      ],
      "metadata": {
        "colab": {
          "base_uri": "https://localhost:8080/"
        },
        "id": "9G8cPCTHJzVA",
        "outputId": "4efeb33a-0647-44ae-fbe2-42db1898d46c"
      },
      "execution_count": null,
      "outputs": [
        {
          "output_type": "stream",
          "name": "stdout",
          "text": [
            "1 3 5 7 9 "
          ]
        }
      ]
    },
    {
      "cell_type": "code",
      "source": [
        "# Quiz\n",
        "\n",
        "L = [1,1,2,1,2,1,5,4,3,2,1,8,4,1,2]\n",
        "S = set(L)\n",
        "print(S)"
      ],
      "metadata": {
        "colab": {
          "base_uri": "https://localhost:8080/"
        },
        "id": "M3OlktG5KAnz",
        "outputId": "c676858a-028a-4ad8-a635-ff57cf2898be"
      },
      "execution_count": null,
      "outputs": [
        {
          "output_type": "stream",
          "name": "stdout",
          "text": [
            "{1, 2, 3, 4, 5, 8}\n"
          ]
        }
      ]
    },
    {
      "cell_type": "code",
      "source": [
        "# Number of customers\n",
        "\n",
        "# Q - Given a list of customer ids who made purchases in a day,\n",
        "# find the # of unique customers who made a purchase\n",
        "\n",
        "# customers = [3, 9, 10, 2, 3, 3, 10, 1]\n",
        "# ans -> 5\n",
        "\n",
        "customers = [3, 9, 10, 2, 3, 3, 10, 1]\n",
        "uniques = set(customers)\n",
        "print(len(uniques))"
      ],
      "metadata": {
        "colab": {
          "base_uri": "https://localhost:8080/"
        },
        "id": "s2NwF87KKaQ7",
        "outputId": "ba8745bf-a6d3-490c-e17a-78e834d8b9c5"
      },
      "execution_count": null,
      "outputs": [
        {
          "output_type": "stream",
          "name": "stdout",
          "text": [
            "5\n"
          ]
        }
      ]
    }
  ]
}