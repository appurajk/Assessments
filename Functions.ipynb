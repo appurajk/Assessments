{
  "cells": [
    {
      "cell_type": "markdown",
      "metadata": {
        "id": "view-in-github",
        "colab_type": "text"
      },
      "source": [
        "<a href=\"https://colab.research.google.com/github/appurajk/Assessments/blob/main/Functions.ipynb\" target=\"_parent\"><img src=\"https://colab.research.google.com/assets/colab-badge.svg\" alt=\"Open In Colab\"/></a>"
      ]
    },
    {
      "cell_type": "markdown",
      "id": "694bda23-c9a2-4139-b627-9ea1ad4e69e0",
      "metadata": {
        "id": "694bda23-c9a2-4139-b627-9ea1ad4e69e0"
      },
      "source": [
        "## Defining a function"
      ]
    },
    {
      "cell_type": "code",
      "execution_count": null,
      "id": "04fed754-306c-4d09-9d86-5642f58565c0",
      "metadata": {
        "colab": {
          "base_uri": "https://localhost:8080/"
        },
        "id": "04fed754-306c-4d09-9d86-5642f58565c0",
        "outputId": "68bb8096-604e-4aea-b5be-ee0d7cb62be4"
      },
      "outputs": [
        {
          "output_type": "stream",
          "name": "stdout",
          "text": [
            "peel off the bananas\n",
            "add some milk\n",
            "add some sugar\n",
            "add some dry fruits\n",
            "add some ice cream\n"
          ]
        }
      ],
      "source": [
        "print(\"peel off the bananas\")\n",
        "print(\"add some milk\")\n",
        "print(\"add some sugar\")\n",
        "print(\"add some dry fruits\")\n",
        "print(\"add some ice cream\")"
      ]
    },
    {
      "cell_type": "code",
      "execution_count": null,
      "id": "3a83ba38-6f5a-496c-a707-1020a35d1ce1",
      "metadata": {
        "colab": {
          "base_uri": "https://localhost:8080/"
        },
        "id": "3a83ba38-6f5a-496c-a707-1020a35d1ce1",
        "outputId": "2819ea72-82a8-465e-f09f-ab987fc83a0c"
      },
      "outputs": [
        {
          "output_type": "stream",
          "name": "stdout",
          "text": [
            "peel off the bananas\n",
            "add some milk\n",
            "add some sugar\n",
            "add some dry fruits\n",
            "add some ice cream\n"
          ]
        }
      ],
      "source": [
        "print(\"peel off the bananas\")\n",
        "print(\"add some milk\")\n",
        "print(\"add some sugar\")\n",
        "print(\"add some dry fruits\")\n",
        "print(\"add some ice cream\")"
      ]
    },
    {
      "cell_type": "code",
      "execution_count": null,
      "id": "55ff09f9-4575-405d-9dc7-1e913349037b",
      "metadata": {
        "id": "55ff09f9-4575-405d-9dc7-1e913349037b"
      },
      "outputs": [],
      "source": [
        "# define the function"
      ]
    },
    {
      "cell_type": "code",
      "execution_count": null,
      "id": "76555d6c-b5d7-4b61-8028-80cce97b8ba6",
      "metadata": {
        "id": "76555d6c-b5d7-4b61-8028-80cce97b8ba6"
      },
      "outputs": [],
      "source": [
        "def banana_shake():\n",
        "  print(\"peel off the bananas\")\n",
        "  print(\"add some milk\")\n",
        "  print(\"add some sugar\")\n",
        "  print(\"add some dry fruits\")\n",
        "  print(\"add some ice cream\")"
      ]
    },
    {
      "cell_type": "code",
      "execution_count": null,
      "id": "d444c26e-46d0-4b8e-a4ac-2022f91c5d41",
      "metadata": {
        "id": "d444c26e-46d0-4b8e-a4ac-2022f91c5d41"
      },
      "outputs": [],
      "source": [
        "# calling the function"
      ]
    },
    {
      "cell_type": "code",
      "execution_count": null,
      "id": "c4288363-74b0-451b-ae15-41f3c7176487",
      "metadata": {
        "colab": {
          "base_uri": "https://localhost:8080/"
        },
        "id": "c4288363-74b0-451b-ae15-41f3c7176487",
        "outputId": "1b767ce2-bf1c-4c00-aae7-1471ea2ee3e1"
      },
      "outputs": [
        {
          "output_type": "stream",
          "name": "stdout",
          "text": [
            "peel off the bananas\n",
            "add some milk\n",
            "add some sugar\n",
            "add some dry fruits\n",
            "add some ice cream\n"
          ]
        }
      ],
      "source": [
        "banana_shake()"
      ]
    },
    {
      "cell_type": "code",
      "execution_count": null,
      "id": "5a116ce2-134e-45a9-85d8-422cc8e7e160",
      "metadata": {
        "colab": {
          "base_uri": "https://localhost:8080/"
        },
        "id": "5a116ce2-134e-45a9-85d8-422cc8e7e160",
        "outputId": "b18d2830-20ce-45c7-9602-aec4cb792515"
      },
      "outputs": [
        {
          "output_type": "stream",
          "name": "stdout",
          "text": [
            "peel off the bananas\n",
            "add some milk\n",
            "add some sugar\n",
            "add some dry fruits\n",
            "add some ice cream\n"
          ]
        }
      ],
      "source": [
        "banana_shake()"
      ]
    },
    {
      "cell_type": "code",
      "execution_count": null,
      "id": "ed4dad61-1512-4572-93e2-58ddbd6ac01d",
      "metadata": {
        "id": "ed4dad61-1512-4572-93e2-58ddbd6ac01d"
      },
      "outputs": [],
      "source": [
        "# call a function in a loop"
      ]
    },
    {
      "cell_type": "code",
      "execution_count": null,
      "id": "97c40662-2919-4d23-b09f-6db4168444cb",
      "metadata": {
        "id": "97c40662-2919-4d23-b09f-6db4168444cb"
      },
      "outputs": [],
      "source": [
        "# quiz"
      ]
    },
    {
      "cell_type": "code",
      "execution_count": null,
      "id": "980bb728-0c2c-4326-bd7e-83389d8c9bb9",
      "metadata": {
        "id": "980bb728-0c2c-4326-bd7e-83389d8c9bb9"
      },
      "outputs": [],
      "source": [
        "def tea():\n",
        "  print(\"Making tea\")\n",
        "\n",
        "\n",
        "tea()\n",
        "tea()\n",
        "tea()\n",
        "for i in range(10):\n",
        "    tea()"
      ]
    },
    {
      "cell_type": "code",
      "execution_count": null,
      "id": "b64f76b0-45ee-4600-8447-9adb04ab7488",
      "metadata": {
        "id": "b64f76b0-45ee-4600-8447-9adb04ab7488"
      },
      "outputs": [],
      "source": []
    },
    {
      "cell_type": "markdown",
      "id": "ea469a2a-725e-4a8a-a856-4d92538fca2d",
      "metadata": {
        "id": "ea469a2a-725e-4a8a-a856-4d92538fca2d"
      },
      "source": [
        "## Passing a parameter to the function\n",
        "- Do you want to make different functions for different fruit shakes?"
      ]
    },
    {
      "cell_type": "code",
      "execution_count": null,
      "id": "76899ac3-ab5d-4b8d-8e40-d8f95cecb8d9",
      "metadata": {
        "id": "76899ac3-ab5d-4b8d-8e40-d8f95cecb8d9"
      },
      "outputs": [],
      "source": [
        "# Make fruit shake instead"
      ]
    },
    {
      "cell_type": "code",
      "execution_count": null,
      "id": "455d0461-c26b-4f57-b785-bdc5fa37c7d2",
      "metadata": {
        "id": "455d0461-c26b-4f57-b785-bdc5fa37c7d2"
      },
      "outputs": [],
      "source": [
        "# fruit: paramter / argument / input\n",
        "\n",
        "def fruit_shake(fruit):\n",
        "  print(\"peel off the\", fruit)\n",
        "  print(\"add some milk\")\n",
        "  print(\"add some sugar\")\n",
        "  print(\"add some dry fruits\")\n",
        "  print(\"add some ice cream\")"
      ]
    },
    {
      "cell_type": "code",
      "execution_count": null,
      "id": "b3262d39-f5e7-4474-9f2f-1361e1d51552",
      "metadata": {
        "colab": {
          "base_uri": "https://localhost:8080/"
        },
        "id": "b3262d39-f5e7-4474-9f2f-1361e1d51552",
        "outputId": "041ba78f-9573-4acb-c20e-7ec10fcf56de"
      },
      "outputs": [
        {
          "output_type": "stream",
          "name": "stdout",
          "text": [
            "peel off the mango\n",
            "add some milk\n",
            "add some sugar\n",
            "add some dry fruits\n",
            "add some ice cream\n"
          ]
        }
      ],
      "source": [
        "fruit_shake(\"mango\")"
      ]
    },
    {
      "cell_type": "code",
      "execution_count": null,
      "id": "5aa604f9-f834-4871-abb0-c72dd31d1a63",
      "metadata": {
        "colab": {
          "base_uri": "https://localhost:8080/"
        },
        "id": "5aa604f9-f834-4871-abb0-c72dd31d1a63",
        "outputId": "9fd79b90-fe7a-4f65-a165-769cd097550e"
      },
      "outputs": [
        {
          "output_type": "stream",
          "name": "stdout",
          "text": [
            "peel off the banana\n",
            "add some milk\n",
            "add some sugar\n",
            "add some dry fruits\n",
            "add some ice cream\n"
          ]
        }
      ],
      "source": [
        "fruit_shake(\"banana\")"
      ]
    },
    {
      "cell_type": "code",
      "execution_count": null,
      "id": "adb37063-8f50-4701-9a57-0890a24fa86f",
      "metadata": {
        "colab": {
          "base_uri": "https://localhost:8080/"
        },
        "id": "adb37063-8f50-4701-9a57-0890a24fa86f",
        "outputId": "e0bae058-de7e-419b-df91-ecd2cea8cc6f"
      },
      "outputs": [
        {
          "output_type": "stream",
          "name": "stdout",
          "text": [
            "peel off the 10\n",
            "add some milk\n",
            "add some sugar\n",
            "add some dry fruits\n",
            "add some ice cream\n"
          ]
        }
      ],
      "source": [
        "fruit_shake(10)"
      ]
    },
    {
      "cell_type": "code",
      "source": [
        "fruit_shake(guava)"
      ],
      "metadata": {
        "colab": {
          "base_uri": "https://localhost:8080/",
          "height": 168
        },
        "id": "eDV1D_XxywWO",
        "outputId": "208e8983-d6cc-411b-dfc5-73c37504cc5f"
      },
      "id": "eDV1D_XxywWO",
      "execution_count": null,
      "outputs": [
        {
          "output_type": "error",
          "ename": "NameError",
          "evalue": "ignored",
          "traceback": [
            "\u001b[0;31m---------------------------------------------------------------------------\u001b[0m",
            "\u001b[0;31mNameError\u001b[0m                                 Traceback (most recent call last)",
            "\u001b[0;32m<ipython-input-11-8c2d92abb90d>\u001b[0m in \u001b[0;36m<cell line: 1>\u001b[0;34m()\u001b[0m\n\u001b[0;32m----> 1\u001b[0;31m \u001b[0mfruit_shake\u001b[0m\u001b[0;34m(\u001b[0m\u001b[0mguava\u001b[0m\u001b[0;34m)\u001b[0m\u001b[0;34m\u001b[0m\u001b[0;34m\u001b[0m\u001b[0m\n\u001b[0m",
            "\u001b[0;31mNameError\u001b[0m: name 'guava' is not defined"
          ]
        }
      ]
    },
    {
      "cell_type": "code",
      "source": [
        "guava = 'guava'\n",
        "fruit_shake(guava)"
      ],
      "metadata": {
        "colab": {
          "base_uri": "https://localhost:8080/"
        },
        "id": "8tgysOWMywYS",
        "outputId": "1a19a43f-b018-47dd-aecc-3f2044943aa7"
      },
      "id": "8tgysOWMywYS",
      "execution_count": null,
      "outputs": [
        {
          "output_type": "stream",
          "name": "stdout",
          "text": [
            "peel off the guava\n",
            "add some milk\n",
            "add some sugar\n",
            "add some dry fruits\n",
            "add some ice cream\n"
          ]
        }
      ]
    },
    {
      "cell_type": "code",
      "execution_count": null,
      "id": "59e53527-9409-4e0c-8825-bc9935c2b226",
      "metadata": {
        "id": "59e53527-9409-4e0c-8825-bc9935c2b226"
      },
      "outputs": [],
      "source": []
    },
    {
      "cell_type": "markdown",
      "id": "b803ae9f-64f1-4b67-85ab-a52f5421902c",
      "metadata": {
        "tags": [],
        "id": "b803ae9f-64f1-4b67-85ab-a52f5421902c"
      },
      "source": [
        "## Multiple paramaters\n",
        "- Introduce your family"
      ]
    },
    {
      "cell_type": "code",
      "execution_count": null,
      "id": "3b4f5e20-9b47-4d31-aeed-e4a55dcba4e6",
      "metadata": {
        "id": "3b4f5e20-9b47-4d31-aeed-e4a55dcba4e6"
      },
      "outputs": [],
      "source": [
        "def family(father, mother, sibling):\n",
        "  print(\"Name of father is\", father)\n",
        "  print(\"Name of mother is\", mother)\n",
        "  print(\"Name of sibling is\", sibling)"
      ]
    },
    {
      "cell_type": "code",
      "execution_count": null,
      "id": "6da0913c-2cdb-4a65-9edc-f9582972e422",
      "metadata": {
        "colab": {
          "base_uri": "https://localhost:8080/"
        },
        "id": "6da0913c-2cdb-4a65-9edc-f9582972e422",
        "outputId": "255ed444-a80c-4b1e-aeca-810c0915a110"
      },
      "outputs": [
        {
          "output_type": "stream",
          "name": "stdout",
          "text": [
            "Name of father is papa\n",
            "Name of mother is mummy\n",
            "Name of sibling is bachu\n"
          ]
        }
      ],
      "source": [
        "family(\"papa\", \"mummy\", \"bachu\")"
      ]
    },
    {
      "cell_type": "code",
      "execution_count": null,
      "id": "444ff40e-f407-4af5-9c02-adca630e69e7",
      "metadata": {
        "colab": {
          "base_uri": "https://localhost:8080/"
        },
        "id": "444ff40e-f407-4af5-9c02-adca630e69e7",
        "outputId": "0c1cf0b8-3f72-46d0-e0e9-5c776f78b5f2"
      },
      "outputs": [
        {
          "output_type": "stream",
          "name": "stdout",
          "text": [
            "Name of father is rahul\n",
            "Name of mother is papa\n",
            "Name of sibling is mummy\n"
          ]
        }
      ],
      "source": [
        "family(\"rahul\", \"papa\", \"mummy\")"
      ]
    },
    {
      "cell_type": "code",
      "execution_count": null,
      "id": "c33a9f4a-686b-45db-a9aa-b731423c0a86",
      "metadata": {
        "id": "c33a9f4a-686b-45db-a9aa-b731423c0a86"
      },
      "outputs": [],
      "source": []
    },
    {
      "cell_type": "markdown",
      "id": "2d5c9fe1-120a-4341-a7f7-b04d9bc64664",
      "metadata": {
        "id": "2d5c9fe1-120a-4341-a7f7-b04d9bc64664"
      },
      "source": [
        "## Default Parameter\n",
        "- We pass while defining a function"
      ]
    },
    {
      "cell_type": "code",
      "execution_count": null,
      "id": "291a905a-9da4-46aa-953c-771b85be92eb",
      "metadata": {
        "id": "291a905a-9da4-46aa-953c-771b85be92eb"
      },
      "outputs": [],
      "source": [
        "## Default values in print function?"
      ]
    },
    {
      "cell_type": "code",
      "source": [
        "print(1, \"Aarnav\", True)\n",
        "print(\"YOLO\", 2.3)"
      ],
      "metadata": {
        "colab": {
          "base_uri": "https://localhost:8080/"
        },
        "id": "wP9hAKK21Fqi",
        "outputId": "54c900e1-359b-48fb-d94d-a50176b85810"
      },
      "id": "wP9hAKK21Fqi",
      "execution_count": null,
      "outputs": [
        {
          "output_type": "stream",
          "name": "stdout",
          "text": [
            "1 Aarnav True\n",
            "YOLO 2.3\n"
          ]
        }
      ]
    },
    {
      "cell_type": "code",
      "source": [
        "print?"
      ],
      "metadata": {
        "id": "Ex5umk8c1kRg"
      },
      "id": "Ex5umk8c1kRg",
      "execution_count": null,
      "outputs": []
    },
    {
      "cell_type": "code",
      "source": [
        "print(1, \"Aarnav\", True, sep=\"->\")"
      ],
      "metadata": {
        "colab": {
          "base_uri": "https://localhost:8080/"
        },
        "id": "sxMpkhuj2CZe",
        "outputId": "4fbea05b-21ee-4af7-d3a0-9c924b28676c"
      },
      "id": "sxMpkhuj2CZe",
      "execution_count": null,
      "outputs": [
        {
          "output_type": "stream",
          "name": "stdout",
          "text": [
            "1->Aarnav->True\n"
          ]
        }
      ]
    },
    {
      "cell_type": "code",
      "source": [
        "print(1, \"Aarnav\", end='end')\n",
        "print(2)"
      ],
      "metadata": {
        "colab": {
          "base_uri": "https://localhost:8080/"
        },
        "id": "qcC_dBVX2J0w",
        "outputId": "8875bbf3-74f1-450f-f5a6-78c3c7eeacd4"
      },
      "id": "qcC_dBVX2J0w",
      "execution_count": null,
      "outputs": [
        {
          "output_type": "stream",
          "name": "stdout",
          "text": [
            "1 Aarnavend2\n"
          ]
        }
      ]
    },
    {
      "cell_type": "code",
      "execution_count": null,
      "id": "89fa6f4f-4801-449d-8051-a1dd72eb42ed",
      "metadata": {
        "id": "89fa6f4f-4801-449d-8051-a1dd72eb42ed"
      },
      "outputs": [],
      "source": [
        "# Family"
      ]
    },
    {
      "cell_type": "code",
      "source": [
        "# default arguments are always in the end in function definition\n",
        "\n",
        "def family(father, mother, sibling=\"bachu\"):\n",
        "  print(\"Name of father is\", father)\n",
        "  print(\"Name of mother is\", mother)\n",
        "  print(\"Name of sibling is\", sibling)"
      ],
      "metadata": {
        "id": "g_Yt-j5y2d_4"
      },
      "id": "g_Yt-j5y2d_4",
      "execution_count": null,
      "outputs": []
    },
    {
      "cell_type": "code",
      "execution_count": null,
      "id": "ff3ec50d-8532-4692-96e8-a04257470e93",
      "metadata": {
        "colab": {
          "base_uri": "https://localhost:8080/"
        },
        "id": "ff3ec50d-8532-4692-96e8-a04257470e93",
        "outputId": "42e20cc4-698c-4566-a26b-5ae887e7ddf8"
      },
      "outputs": [
        {
          "output_type": "stream",
          "name": "stdout",
          "text": [
            "Name of father is papa\n",
            "Name of mother is mummy\n",
            "Name of sibling is bachu\n"
          ]
        }
      ],
      "source": [
        "family(\"papa\", \"mummy\")"
      ]
    },
    {
      "cell_type": "code",
      "execution_count": null,
      "id": "fbcc2f37-1ae0-4983-b6a3-0cd11a21d416",
      "metadata": {
        "colab": {
          "base_uri": "https://localhost:8080/"
        },
        "id": "fbcc2f37-1ae0-4983-b6a3-0cd11a21d416",
        "outputId": "1972fd34-eb38-4787-d66e-73e1bd6e2717"
      },
      "outputs": [
        {
          "output_type": "stream",
          "name": "stdout",
          "text": [
            "Name of father is papa\n",
            "Name of mother is mummy\n",
            "Name of sibling is aarnav\n"
          ]
        }
      ],
      "source": [
        "family(\"papa\", \"mummy\", \"aarnav\")"
      ]
    },
    {
      "cell_type": "code",
      "execution_count": null,
      "id": "f4afbcc6-99d8-485d-a865-34977c215591",
      "metadata": {
        "id": "f4afbcc6-99d8-485d-a865-34977c215591"
      },
      "outputs": [],
      "source": [
        "# break - 10:05pm"
      ]
    },
    {
      "cell_type": "markdown",
      "id": "87d911ea-00d2-4565-8c4f-8faa0fe674a6",
      "metadata": {
        "id": "87d911ea-00d2-4565-8c4f-8faa0fe674a6"
      },
      "source": [
        "## Keyword Arguments\n",
        "- It's a game of using parameter's name while calling the function\n",
        "- When the number of arguments are too many use it\n",
        "- No need to remember the order / position of arguments now"
      ]
    },
    {
      "cell_type": "code",
      "execution_count": null,
      "id": "47c0fa70-936a-486b-8e02-e4c596b61681",
      "metadata": {
        "id": "47c0fa70-936a-486b-8e02-e4c596b61681"
      },
      "outputs": [],
      "source": [
        "# The person who can order from menu"
      ]
    },
    {
      "cell_type": "code",
      "execution_count": null,
      "id": "9b594ce7-5c9e-46ff-a450-9f673617a2ec",
      "metadata": {
        "colab": {
          "base_uri": "https://localhost:8080/"
        },
        "id": "9b594ce7-5c9e-46ff-a450-9f673617a2ec",
        "outputId": "9e9d9688-4742-4462-e851-a38fe2e20990"
      },
      "outputs": [
        {
          "output_type": "stream",
          "name": "stdout",
          "text": [
            "Name of father is dad\n",
            "Name of mother is mom\n",
            "Name of sibling is rhea\n"
          ]
        }
      ],
      "source": [
        "family(mother=\"mom\", sibling=\"rhea\", father=\"dad\")"
      ]
    },
    {
      "cell_type": "code",
      "source": [
        "family(mother=\"mom\", father=\"dad\")"
      ],
      "metadata": {
        "colab": {
          "base_uri": "https://localhost:8080/"
        },
        "id": "oX9WT8QD8aAz",
        "outputId": "17675859-eadc-4fdc-9fca-1fad596646ec"
      },
      "id": "oX9WT8QD8aAz",
      "execution_count": null,
      "outputs": [
        {
          "output_type": "stream",
          "name": "stdout",
          "text": [
            "Name of father is dad\n",
            "Name of mother is mom\n",
            "Name of sibling is bachu\n"
          ]
        }
      ]
    },
    {
      "cell_type": "code",
      "execution_count": null,
      "id": "ec568994-39b9-412b-8d3a-292fb7bbd6b3",
      "metadata": {
        "id": "ec568994-39b9-412b-8d3a-292fb7bbd6b3"
      },
      "outputs": [],
      "source": [
        "# Quiz?"
      ]
    },
    {
      "cell_type": "code",
      "execution_count": null,
      "id": "cfb13bd8-a20c-4136-99e0-08dabed411c7",
      "metadata": {
        "colab": {
          "base_uri": "https://localhost:8080/",
          "height": 168
        },
        "id": "cfb13bd8-a20c-4136-99e0-08dabed411c7",
        "outputId": "9bd1a499-b721-45f4-e518-2279043832d4"
      },
      "outputs": [
        {
          "output_type": "error",
          "ename": "TypeError",
          "evalue": "ignored",
          "traceback": [
            "\u001b[0;31m---------------------------------------------------------------------------\u001b[0m",
            "\u001b[0;31mTypeError\u001b[0m                                 Traceback (most recent call last)",
            "\u001b[0;32m<ipython-input-32-5638588a77cf>\u001b[0m in \u001b[0;36m<cell line: 1>\u001b[0;34m()\u001b[0m\n\u001b[0;32m----> 1\u001b[0;31m \u001b[0mfamily\u001b[0m\u001b[0;34m(\u001b[0m\u001b[0mmother\u001b[0m \u001b[0;34m=\u001b[0m \u001b[0;34m\"mummy\"\u001b[0m\u001b[0;34m,\u001b[0m \u001b[0msibling\u001b[0m \u001b[0;34m=\u001b[0m \u001b[0;34m\"sibbu\"\u001b[0m\u001b[0;34m)\u001b[0m\u001b[0;34m\u001b[0m\u001b[0;34m\u001b[0m\u001b[0m\n\u001b[0m",
            "\u001b[0;31mTypeError\u001b[0m: family() missing 1 required positional argument: 'father'"
          ]
        }
      ],
      "source": [
        "family(mother = \"mummy\", sibling = \"sibbu\")"
      ]
    },
    {
      "cell_type": "markdown",
      "id": "0b627352-0439-41b9-8313-e73a4e2ecb82",
      "metadata": {
        "id": "0b627352-0439-41b9-8313-e73a4e2ecb82"
      },
      "source": [
        "## Docstrings\n",
        "- Should I have Kept some Documentation?\n",
        "- Tell me something about yourself please..."
      ]
    },
    {
      "cell_type": "code",
      "execution_count": null,
      "id": "cb9cd720-5ac9-41d7-b0c8-b8788c028ffd",
      "metadata": {
        "id": "cb9cd720-5ac9-41d7-b0c8-b8788c028ffd"
      },
      "outputs": [],
      "source": [
        "# docstring of print function"
      ]
    },
    {
      "cell_type": "code",
      "execution_count": null,
      "id": "95b738f3-9aa9-46fc-a08c-2b8a935839d0",
      "metadata": {
        "id": "95b738f3-9aa9-46fc-a08c-2b8a935839d0"
      },
      "outputs": [],
      "source": [
        "print?"
      ]
    },
    {
      "cell_type": "code",
      "execution_count": null,
      "id": "c7695925-c180-4c69-9d40-c0507f9804e9",
      "metadata": {
        "id": "c7695925-c180-4c69-9d40-c0507f9804e9"
      },
      "outputs": [],
      "source": [
        "def add(x, y):\n",
        "  \"\"\"\n",
        "  This function adds a and b:\n",
        "  a: Please give same type of value for both a and b\n",
        "  b: Please give same type of value for both a and b\n",
        "  \"\"\"\n",
        "  print(x+y)"
      ]
    },
    {
      "cell_type": "code",
      "execution_count": null,
      "id": "d12c2589-f5ed-4021-a81c-d07c20b2f4f0",
      "metadata": {
        "colab": {
          "base_uri": "https://localhost:8080/"
        },
        "id": "d12c2589-f5ed-4021-a81c-d07c20b2f4f0",
        "outputId": "d709f374-7bb5-46b5-c333-a25222233732"
      },
      "outputs": [
        {
          "output_type": "stream",
          "name": "stdout",
          "text": [
            "5\n"
          ]
        }
      ],
      "source": [
        "add(2, 3)"
      ]
    },
    {
      "cell_type": "code",
      "execution_count": null,
      "id": "fcdebe0f-a9a8-40cd-b64e-d34bc83ac807",
      "metadata": {
        "colab": {
          "base_uri": "https://localhost:8080/",
          "height": 239
        },
        "id": "fcdebe0f-a9a8-40cd-b64e-d34bc83ac807",
        "outputId": "c9319c5e-572c-40e1-9641-4377c5beba46"
      },
      "outputs": [
        {
          "output_type": "error",
          "ename": "TypeError",
          "evalue": "ignored",
          "traceback": [
            "\u001b[0;31m---------------------------------------------------------------------------\u001b[0m",
            "\u001b[0;31mTypeError\u001b[0m                                 Traceback (most recent call last)",
            "\u001b[0;32m<ipython-input-37-e9d0c5ede1b2>\u001b[0m in \u001b[0;36m<cell line: 1>\u001b[0;34m()\u001b[0m\n\u001b[0;32m----> 1\u001b[0;31m \u001b[0madd\u001b[0m\u001b[0;34m(\u001b[0m\u001b[0;36m3\u001b[0m \u001b[0;34m,\u001b[0m \u001b[0;34m\"Rahul\"\u001b[0m\u001b[0;34m)\u001b[0m\u001b[0;34m\u001b[0m\u001b[0;34m\u001b[0m\u001b[0m\n\u001b[0m",
            "\u001b[0;32m<ipython-input-35-88e918bae1a3>\u001b[0m in \u001b[0;36madd\u001b[0;34m(x, y)\u001b[0m\n\u001b[1;32m      1\u001b[0m \u001b[0;32mdef\u001b[0m \u001b[0madd\u001b[0m\u001b[0;34m(\u001b[0m\u001b[0mx\u001b[0m\u001b[0;34m,\u001b[0m \u001b[0my\u001b[0m\u001b[0;34m)\u001b[0m \u001b[0;34m:\u001b[0m\u001b[0;34m\u001b[0m\u001b[0;34m\u001b[0m\u001b[0m\n\u001b[0;32m----> 2\u001b[0;31m   \u001b[0mprint\u001b[0m\u001b[0;34m(\u001b[0m\u001b[0mx\u001b[0m\u001b[0;34m+\u001b[0m\u001b[0my\u001b[0m\u001b[0;34m)\u001b[0m\u001b[0;34m\u001b[0m\u001b[0;34m\u001b[0m\u001b[0m\n\u001b[0m",
            "\u001b[0;31mTypeError\u001b[0m: unsupported operand type(s) for +: 'int' and 'str'"
          ]
        }
      ],
      "source": [
        "add(3 , \"Rahul\")"
      ]
    },
    {
      "cell_type": "code",
      "source": [
        "add?"
      ],
      "metadata": {
        "id": "0EArMa6A-qrc"
      },
      "id": "0EArMa6A-qrc",
      "execution_count": null,
      "outputs": []
    },
    {
      "cell_type": "markdown",
      "id": "73a219c5-1701-4093-a0ab-6f860a6cc7a3",
      "metadata": {
        "id": "73a219c5-1701-4093-a0ab-6f860a6cc7a3"
      },
      "source": [
        "# Return statement"
      ]
    },
    {
      "cell_type": "code",
      "execution_count": null,
      "id": "9656f751-b86e-4079-9ae8-69daf96835e5",
      "metadata": {
        "id": "9656f751-b86e-4079-9ae8-69daf96835e5"
      },
      "outputs": [],
      "source": [
        "def add(a, b):\n",
        "  print(a+b)"
      ]
    },
    {
      "cell_type": "code",
      "source": [
        "add(2, 3)"
      ],
      "metadata": {
        "colab": {
          "base_uri": "https://localhost:8080/"
        },
        "id": "RAkkzXVStMN-",
        "outputId": "aa2020d6-b826-4072-daa8-049f8a8eafd2"
      },
      "id": "RAkkzXVStMN-",
      "execution_count": null,
      "outputs": [
        {
          "output_type": "stream",
          "name": "stdout",
          "text": [
            "5\n"
          ]
        }
      ]
    },
    {
      "cell_type": "code",
      "source": [
        "def add2(a, b):\n",
        "  return a+b"
      ],
      "metadata": {
        "id": "3szOYLwD_U16"
      },
      "id": "3szOYLwD_U16",
      "execution_count": null,
      "outputs": []
    },
    {
      "cell_type": "code",
      "source": [
        "sm = add2(2, 6)\n",
        "print(sm, sm**2)"
      ],
      "metadata": {
        "colab": {
          "base_uri": "https://localhost:8080/"
        },
        "id": "r7OIxe3O_YrD",
        "outputId": "6fa6b80e-31bf-4219-b7ec-250beb4f0427"
      },
      "id": "r7OIxe3O_YrD",
      "execution_count": null,
      "outputs": [
        {
          "output_type": "stream",
          "name": "stdout",
          "text": [
            "8 64\n"
          ]
        }
      ]
    },
    {
      "cell_type": "code",
      "source": [
        "print(add2(3, -1))"
      ],
      "metadata": {
        "colab": {
          "base_uri": "https://localhost:8080/"
        },
        "id": "pJdDwXYP_kLM",
        "outputId": "80ee27d1-5c5e-4c34-b704-76ff4fd88995"
      },
      "id": "pJdDwXYP_kLM",
      "execution_count": null,
      "outputs": [
        {
          "output_type": "stream",
          "name": "stdout",
          "text": [
            "2\n"
          ]
        }
      ]
    },
    {
      "cell_type": "code",
      "source": [
        "type(2)"
      ],
      "metadata": {
        "colab": {
          "base_uri": "https://localhost:8080/"
        },
        "id": "sGQNyWIs_6zh",
        "outputId": "72293be2-32c8-4ee1-d60b-b2c47fad2189"
      },
      "id": "sGQNyWIs_6zh",
      "execution_count": null,
      "outputs": [
        {
          "output_type": "execute_result",
          "data": {
            "text/plain": [
              "int"
            ]
          },
          "metadata": {},
          "execution_count": 49
        }
      ]
    },
    {
      "cell_type": "code",
      "source": [
        "type(print)\n",
        "\n",
        "# Here we're checking the type of print function"
      ],
      "metadata": {
        "colab": {
          "base_uri": "https://localhost:8080/"
        },
        "id": "_Tx973mJAK44",
        "outputId": "edfbcf10-1f1b-495e-e1ae-fb2b2c346cb2"
      },
      "id": "_Tx973mJAK44",
      "execution_count": null,
      "outputs": [
        {
          "output_type": "execute_result",
          "data": {
            "text/plain": [
              "builtin_function_or_method"
            ]
          },
          "metadata": {},
          "execution_count": 51
        }
      ]
    },
    {
      "cell_type": "code",
      "source": [
        "type(print())\n",
        "\n",
        "# Here we're checking the returned value from print\n",
        "# Print doesn't return anything, it directly prints to console"
      ],
      "metadata": {
        "colab": {
          "base_uri": "https://localhost:8080/"
        },
        "id": "YNgLQbudABwv",
        "outputId": "dec00123-59dd-410d-ec7d-17df032b8bde"
      },
      "id": "YNgLQbudABwv",
      "execution_count": null,
      "outputs": [
        {
          "output_type": "stream",
          "name": "stdout",
          "text": [
            "\n"
          ]
        },
        {
          "output_type": "execute_result",
          "data": {
            "text/plain": [
              "NoneType"
            ]
          },
          "metadata": {},
          "execution_count": 50
        }
      ]
    },
    {
      "cell_type": "code",
      "source": [
        "type(add2(2, 1))"
      ],
      "metadata": {
        "colab": {
          "base_uri": "https://localhost:8080/"
        },
        "id": "DN07Yx79AqHZ",
        "outputId": "49ae489a-a076-4171-8503-034a959a8abe"
      },
      "id": "DN07Yx79AqHZ",
      "execution_count": null,
      "outputs": [
        {
          "output_type": "execute_result",
          "data": {
            "text/plain": [
              "int"
            ]
          },
          "metadata": {},
          "execution_count": 52
        }
      ]
    },
    {
      "cell_type": "code",
      "source": [
        "type(add(1, 3))"
      ],
      "metadata": {
        "colab": {
          "base_uri": "https://localhost:8080/"
        },
        "id": "OHkFFBpOBG1P",
        "outputId": "f61d98f1-9324-4b84-8a8e-f1acf15e81af"
      },
      "id": "OHkFFBpOBG1P",
      "execution_count": null,
      "outputs": [
        {
          "output_type": "stream",
          "name": "stdout",
          "text": [
            "4\n"
          ]
        },
        {
          "output_type": "execute_result",
          "data": {
            "text/plain": [
              "NoneType"
            ]
          },
          "metadata": {},
          "execution_count": 54
        }
      ]
    },
    {
      "cell_type": "code",
      "source": [
        "def test():\n",
        "  print(\"Hello guys !\")\n",
        "  return\n",
        "  print(\"Bye guys !\")\n",
        "\n",
        "# return gives back the result\n",
        "# return ends the function"
      ],
      "metadata": {
        "id": "iXQrYcJhA2uD"
      },
      "id": "iXQrYcJhA2uD",
      "execution_count": null,
      "outputs": []
    },
    {
      "cell_type": "code",
      "source": [
        "test()"
      ],
      "metadata": {
        "colab": {
          "base_uri": "https://localhost:8080/"
        },
        "id": "hyL1Orm2BAay",
        "outputId": "0d4e2956-a16b-4baa-e372-63eeb941f4a9"
      },
      "id": "hyL1Orm2BAay",
      "execution_count": null,
      "outputs": [
        {
          "output_type": "stream",
          "name": "stdout",
          "text": [
            "Hello guys !\n"
          ]
        }
      ]
    },
    {
      "cell_type": "code",
      "source": [
        "print( 0 == False )"
      ],
      "metadata": {
        "colab": {
          "base_uri": "https://localhost:8080/"
        },
        "id": "WH1VvgzLD4fW",
        "outputId": "a1c06317-da30-48fc-e19e-08d86d9bedb7"
      },
      "id": "WH1VvgzLD4fW",
      "execution_count": null,
      "outputs": [
        {
          "output_type": "stream",
          "name": "stdout",
          "text": [
            "True\n"
          ]
        }
      ]
    },
    {
      "cell_type": "code",
      "source": [
        "i=0\n",
        "j=0\n",
        "if j%2 :\n",
        "  j+=1\n",
        "  print(i,\":\",j,end =\" \")"
      ],
      "metadata": {
        "id": "_qv1ZJuoD4hc"
      },
      "id": "_qv1ZJuoD4hc",
      "execution_count": null,
      "outputs": []
    },
    {
      "cell_type": "code",
      "source": [
        "1 2 3 4\n",
        "1 2 3\n",
        "1 2\n",
        "1"
      ],
      "metadata": {
        "colab": {
          "base_uri": "https://localhost:8080/"
        },
        "id": "OiyLPCm4EnA1",
        "outputId": "d3c37836-46c4-4281-c1e5-15d5c4481bd8"
      },
      "id": "OiyLPCm4EnA1",
      "execution_count": null,
      "outputs": [
        {
          "output_type": "stream",
          "name": "stdout",
          "text": [
            "\n",
            "Test\n"
          ]
        }
      ]
    },
    {
      "cell_type": "code",
      "source": [
        "n = 4\n",
        "for row in range(n+1) :\n",
        "  for col in range(1, n-row+1) :\n",
        "    if col == n-row :\n",
        "      print(col, end='')\n",
        "    else :\n",
        "      print(col, end=' ')\n",
        "  print()\n",
        "\n",
        "# Same items in each row\n",
        "# Increasing items with each row\n",
        "# Decreasing items with each row\n",
        "\n",
        "# 1 2 3\n",
        "# 1 2 3\n",
        "# 1 2 3\n",
        "# col -> range(fixed)\n",
        "\n",
        "# 1\n",
        "# 1 2\n",
        "# 1 2 3\n",
        "# col -> range(row + k)\n",
        "\n",
        "# 1 2 3\n",
        "# 1 2\n",
        "# 1\n",
        "# col -> range(n-row + k)"
      ],
      "metadata": {
        "colab": {
          "base_uri": "https://localhost:8080/"
        },
        "id": "oud5swZEGBp7",
        "outputId": "636eaf54-d51a-4ed4-b662-ca2ee436482b"
      },
      "id": "oud5swZEGBp7",
      "execution_count": null,
      "outputs": [
        {
          "output_type": "stream",
          "name": "stdout",
          "text": [
            "1 2 3 4\n",
            "1 2 3\n",
            "1 2\n",
            "1\n",
            "\n"
          ]
        }
      ]
    }
  ],
  "metadata": {
    "kernelspec": {
      "display_name": "Python 3 (ipykernel)",
      "language": "python",
      "name": "python3"
    },
    "language_info": {
      "codemirror_mode": {
        "name": "ipython",
        "version": 3
      },
      "file_extension": ".py",
      "mimetype": "text/x-python",
      "name": "python",
      "nbconvert_exporter": "python",
      "pygments_lexer": "ipython3",
      "version": "3.9.7"
    },
    "colab": {
      "provenance": [],
      "include_colab_link": true
    }
  },
  "nbformat": 4,
  "nbformat_minor": 5
}