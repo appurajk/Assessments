{
  "cells": [
    {
      "cell_type": "markdown",
      "metadata": {
        "id": "view-in-github",
        "colab_type": "text"
      },
      "source": [
        "<a href=\"https://colab.research.google.com/github/appurajk/Assessments/blob/main/Lists2.ipynb\" target=\"_parent\"><img src=\"https://colab.research.google.com/assets/colab-badge.svg\" alt=\"Open In Colab\"/></a>"
      ]
    },
    {
      "cell_type": "markdown",
      "id": "2d76333a-ec8f-493c-971b-64464598ca3f",
      "metadata": {
        "id": "2d76333a-ec8f-493c-971b-64464598ca3f"
      },
      "source": [
        "### Iterate on a list using indexes"
      ]
    },
    {
      "cell_type": "code",
      "execution_count": null,
      "id": "7db0c6c8-686e-4040-b02c-0fe48630e59e",
      "metadata": {
        "id": "7db0c6c8-686e-4040-b02c-0fe48630e59e"
      },
      "outputs": [],
      "source": [
        "# Quiz"
      ]
    },
    {
      "cell_type": "code",
      "execution_count": null,
      "id": "896fcf38-c123-457d-8b6c-b1096120d0ac",
      "metadata": {
        "id": "896fcf38-c123-457d-8b6c-b1096120d0ac",
        "colab": {
          "base_uri": "https://localhost:8080/"
        },
        "outputId": "3061d472-fd1c-43a0-b6a5-01580ffa03e6"
      },
      "outputs": [
        {
          "output_type": "stream",
          "name": "stdout",
          "text": [
            "5\n"
          ]
        }
      ],
      "source": [
        "l = [3, 0, 4, 9, 1]\n",
        "print(len(l))"
      ]
    },
    {
      "cell_type": "code",
      "execution_count": null,
      "id": "e3e2369e-24c7-4220-bbd1-03a15d72a0df",
      "metadata": {
        "id": "e3e2369e-24c7-4220-bbd1-03a15d72a0df"
      },
      "outputs": [],
      "source": [
        "# indices : 0, 1, 2, 3, 4"
      ]
    },
    {
      "cell_type": "code",
      "execution_count": null,
      "id": "c28f83a6-ab00-438c-b508-6fba3f6847e7",
      "metadata": {
        "id": "c28f83a6-ab00-438c-b508-6fba3f6847e7",
        "colab": {
          "base_uri": "https://localhost:8080/"
        },
        "outputId": "0b881761-de83-4913-efdc-1b3d876e8f9a"
      },
      "outputs": [
        {
          "output_type": "stream",
          "name": "stdout",
          "text": [
            "3\n",
            "0\n",
            "4\n",
            "9\n",
            "1\n"
          ]
        }
      ],
      "source": [
        "for index in range(len(l)) : # range(5) -> [0, 1, 2, 3, 4]\n",
        "  print(l[index])"
      ]
    },
    {
      "cell_type": "code",
      "execution_count": null,
      "id": "5ee2d333-eadd-4c32-9be0-bdc6d5c01dbe",
      "metadata": {
        "id": "5ee2d333-eadd-4c32-9be0-bdc6d5c01dbe"
      },
      "outputs": [],
      "source": []
    },
    {
      "cell_type": "markdown",
      "id": "4f766534-ce04-4084-9ac5-02e5b111f8b1",
      "metadata": {
        "id": "4f766534-ce04-4084-9ac5-02e5b111f8b1"
      },
      "source": [
        "### Runs scored by Sachin in 3rd match wrong data"
      ]
    },
    {
      "cell_type": "code",
      "execution_count": null,
      "id": "1695d9f4-31c5-43d0-9483-9d94b94e8d73",
      "metadata": {
        "id": "1695d9f4-31c5-43d0-9483-9d94b94e8d73"
      },
      "outputs": [],
      "source": [
        "## Mutability power"
      ]
    },
    {
      "cell_type": "code",
      "execution_count": null,
      "id": "ce34ff54-b361-4fea-88ec-adc01e854567",
      "metadata": {
        "id": "ce34ff54-b361-4fea-88ec-adc01e854567"
      },
      "outputs": [],
      "source": [
        "# Quizzes"
      ]
    },
    {
      "cell_type": "code",
      "execution_count": null,
      "id": "fc14230b-115e-4067-9f69-36b35429a26d",
      "metadata": {
        "id": "fc14230b-115e-4067-9f69-36b35429a26d"
      },
      "outputs": [],
      "source": [
        "runs = [100, 150, 99, 20, 99, 200, 99, 120]\n",
        "# correct runs in 3rd match are 199"
      ]
    },
    {
      "cell_type": "code",
      "execution_count": null,
      "id": "b46fca0e-733c-4562-a1e6-29dd7be1743e",
      "metadata": {
        "id": "b46fca0e-733c-4562-a1e6-29dd7be1743e",
        "colab": {
          "base_uri": "https://localhost:8080/"
        },
        "outputId": "4924877f-decf-4c41-f5a4-c89ba88c1b66"
      },
      "outputs": [
        {
          "output_type": "stream",
          "name": "stdout",
          "text": [
            "[100, 150, 199, 20, 99, 200, 99, 120]\n"
          ]
        }
      ],
      "source": [
        "runs[2] = 199\n",
        "print(runs)"
      ]
    },
    {
      "cell_type": "code",
      "execution_count": null,
      "id": "bd36aa2b-ec04-4054-9701-f41fc9b7623d",
      "metadata": {
        "id": "bd36aa2b-ec04-4054-9701-f41fc9b7623d"
      },
      "outputs": [],
      "source": [
        "# Quizzes"
      ]
    },
    {
      "cell_type": "code",
      "source": [
        "# How to read an equation\n",
        "# 1. Solve the right side first\n",
        "# 2. Assign values to the left side"
      ],
      "metadata": {
        "id": "ONpNHBiiglMp"
      },
      "id": "ONpNHBiiglMp",
      "execution_count": null,
      "outputs": []
    },
    {
      "cell_type": "code",
      "execution_count": null,
      "id": "de72eebd-e744-44ed-8b73-7df2572d8010",
      "metadata": {
        "id": "de72eebd-e744-44ed-8b73-7df2572d8010",
        "colab": {
          "base_uri": "https://localhost:8080/"
        },
        "outputId": "82b7d962-f931-4dfb-b86e-e002fae654e8"
      },
      "outputs": [
        {
          "output_type": "stream",
          "name": "stdout",
          "text": [
            "[2, 5, 10]\n"
          ]
        }
      ],
      "source": [
        "user_values = [2, 5, 9]\n",
        "user_values[2] = user_values[2] + 1 # 9 + 1 # 10\n",
        "\n",
        "print(user_values)"
      ]
    },
    {
      "cell_type": "code",
      "execution_count": null,
      "id": "c9c872f1-584c-484d-bb69-84010da82271",
      "metadata": {
        "id": "c9c872f1-584c-484d-bb69-84010da82271",
        "colab": {
          "base_uri": "https://localhost:8080/"
        },
        "outputId": "e18ba4e4-4a08-4f10-fd9b-e5acec466189"
      },
      "outputs": [
        {
          "output_type": "stream",
          "name": "stdout",
          "text": [
            "[1, 1, 8]\n"
          ]
        }
      ],
      "source": [
        "user_values = [1, 6, 8]\n",
        "user_values[1] = user_values[0] # 1\n",
        "\n",
        "print(user_values)"
      ]
    },
    {
      "cell_type": "code",
      "source": [
        "user_values = [3, 5, 9]\n",
        "user_values[1] = user_values[1] + 1 # 5 + 1 # 6\n",
        "user_values[2] = user_values[2] + 2 # 9 + 2 # 11\n",
        "\n",
        "print(user_values)"
      ],
      "metadata": {
        "colab": {
          "base_uri": "https://localhost:8080/"
        },
        "id": "WQuVz-bPhU2l",
        "outputId": "b7033cdf-ae26-4ab8-b369-729160822f32"
      },
      "id": "WQuVz-bPhU2l",
      "execution_count": null,
      "outputs": [
        {
          "output_type": "stream",
          "name": "stdout",
          "text": [
            "[3, 6, 11]\n"
          ]
        }
      ]
    },
    {
      "cell_type": "code",
      "source": [
        "user_values = [3, 6, 7]\n",
        "user_values[1] = user_values[2] # 7\n",
        "# [3, 7, 7]\n",
        "user_values[2] = user_values[0] # 3\n",
        "# [3, 7, 3]\n",
        "print(user_values)"
      ],
      "metadata": {
        "colab": {
          "base_uri": "https://localhost:8080/"
        },
        "id": "0hZFWWI8hzt_",
        "outputId": "84a8cc4d-0dba-429e-aedd-1c10bb31ee93"
      },
      "id": "0hZFWWI8hzt_",
      "execution_count": null,
      "outputs": [
        {
          "output_type": "stream",
          "name": "stdout",
          "text": [
            "[3, 7, 3]\n"
          ]
        }
      ]
    },
    {
      "cell_type": "code",
      "source": [],
      "metadata": {
        "id": "GixLlS8uiPZ2"
      },
      "id": "GixLlS8uiPZ2",
      "execution_count": null,
      "outputs": []
    },
    {
      "cell_type": "markdown",
      "id": "85611a78-cbcb-4f08-b36a-8b35da1013a5",
      "metadata": {
        "tags": [],
        "id": "85611a78-cbcb-4f08-b36a-8b35da1013a5"
      },
      "source": [
        "### When did Sachin scored 99 runs first time? Index?"
      ]
    },
    {
      "cell_type": "code",
      "execution_count": null,
      "id": "076a5c1d-f4ae-4ec0-8ae2-1f4e828735a2",
      "metadata": {
        "id": "076a5c1d-f4ae-4ec0-8ae2-1f4e828735a2"
      },
      "outputs": [],
      "source": [
        "# index"
      ]
    },
    {
      "cell_type": "code",
      "execution_count": null,
      "id": "40a7d756-1d61-4069-aa3d-8ecbfb5941ec",
      "metadata": {
        "id": "40a7d756-1d61-4069-aa3d-8ecbfb5941ec"
      },
      "outputs": [],
      "source": [
        "# Quiz"
      ]
    },
    {
      "cell_type": "code",
      "execution_count": null,
      "id": "321bded2-f8dd-4a77-9727-f874353ba063",
      "metadata": {
        "id": "321bded2-f8dd-4a77-9727-f874353ba063",
        "outputId": "2385761a-bafc-4cc3-f6de-db5d30cfecb1",
        "colab": {
          "base_uri": "https://localhost:8080/"
        }
      },
      "outputs": [
        {
          "output_type": "execute_result",
          "data": {
            "text/plain": [
              "[100, 150, 199, 20, 99, 200, 99, 120]"
            ]
          },
          "metadata": {},
          "execution_count": 10
        }
      ],
      "source": [
        "runs\n",
        "# Sachin scores 99 for the first time on index 4"
      ]
    },
    {
      "cell_type": "code",
      "execution_count": null,
      "id": "ecbb4302-669b-4b83-81e6-cf1e6b3d01ef",
      "metadata": {
        "id": "ecbb4302-669b-4b83-81e6-cf1e6b3d01ef"
      },
      "outputs": [],
      "source": [
        "# Given a list and value X as input, print the first index where X occurs in the list\n",
        "# Note - X is always present in the list"
      ]
    },
    {
      "cell_type": "code",
      "execution_count": null,
      "id": "fc04e0f5-9ac9-4771-ae63-d4d80525e7c9",
      "metadata": {
        "id": "fc04e0f5-9ac9-4771-ae63-d4d80525e7c9",
        "colab": {
          "base_uri": "https://localhost:8080/"
        },
        "outputId": "98bafe43-284d-49d0-ceb4-ef9eec691cba"
      },
      "outputs": [
        {
          "output_type": "stream",
          "name": "stdout",
          "text": [
            "4\n"
          ]
        }
      ],
      "source": [
        "for index in range(len(runs)) :\n",
        "  if runs[index] == 99 :\n",
        "    print(index)\n",
        "    break"
      ]
    },
    {
      "cell_type": "code",
      "execution_count": null,
      "id": "bcccbc0f-ab3f-47de-b1b2-c72684ffee40",
      "metadata": {
        "id": "bcccbc0f-ab3f-47de-b1b2-c72684ffee40",
        "colab": {
          "base_uri": "https://localhost:8080/"
        },
        "outputId": "37735e93-7269-4b17-a0f9-5052bbf334f8"
      },
      "outputs": [
        {
          "output_type": "stream",
          "name": "stdout",
          "text": [
            "4\n"
          ]
        }
      ],
      "source": [
        "print(runs.index(99))"
      ]
    },
    {
      "cell_type": "code",
      "execution_count": null,
      "id": "7b7add7a-0cee-47be-807b-4bf2f0ee6220",
      "metadata": {
        "id": "7b7add7a-0cee-47be-807b-4bf2f0ee6220"
      },
      "outputs": [],
      "source": []
    },
    {
      "cell_type": "code",
      "execution_count": null,
      "id": "a8e4dcf9-11ec-4d93-9862-1835bddaeeb7",
      "metadata": {
        "id": "a8e4dcf9-11ec-4d93-9862-1835bddaeeb7"
      },
      "outputs": [],
      "source": []
    },
    {
      "cell_type": "markdown",
      "id": "b4fd3153-12b0-4ca3-9bfe-67fd1a69af12",
      "metadata": {
        "id": "b4fd3153-12b0-4ca3-9bfe-67fd1a69af12"
      },
      "source": [
        "### Maximum runs scored by Sachin"
      ]
    },
    {
      "cell_type": "code",
      "execution_count": null,
      "id": "4f6b6fcb-8f80-4696-87eb-3fb33c571c2f",
      "metadata": {
        "id": "4f6b6fcb-8f80-4696-87eb-3fb33c571c2f"
      },
      "outputs": [],
      "source": [
        "# max, min"
      ]
    },
    {
      "cell_type": "code",
      "execution_count": null,
      "id": "4af3d3e7-2f97-49d6-9704-f996b27d3a88",
      "metadata": {
        "id": "4af3d3e7-2f97-49d6-9704-f996b27d3a88"
      },
      "outputs": [],
      "source": [
        "# Quiz"
      ]
    },
    {
      "cell_type": "code",
      "execution_count": null,
      "id": "d52879e8-5a5e-4865-9fcc-e91c2240e07f",
      "metadata": {
        "id": "d52879e8-5a5e-4865-9fcc-e91c2240e07f",
        "outputId": "ceac722b-ab6b-402e-e881-c679f66f1c4d",
        "colab": {
          "base_uri": "https://localhost:8080/"
        }
      },
      "outputs": [
        {
          "output_type": "stream",
          "name": "stdout",
          "text": [
            "[100, 150, 199, 20, 99, 200, 99, 120]\n"
          ]
        }
      ],
      "source": [
        "print(runs)"
      ]
    },
    {
      "cell_type": "code",
      "execution_count": null,
      "id": "ad34f507-a340-4fe5-8e11-93ab59057869",
      "metadata": {
        "id": "ad34f507-a340-4fe5-8e11-93ab59057869",
        "colab": {
          "base_uri": "https://localhost:8080/"
        },
        "outputId": "86b80956-437a-4720-d99b-7b8e65520f05"
      },
      "outputs": [
        {
          "output_type": "stream",
          "name": "stdout",
          "text": [
            "Max is 200\n"
          ]
        }
      ],
      "source": [
        "mx = runs[0]\n",
        "\n",
        "for run in runs :\n",
        "  if run > mx :\n",
        "    mx = run\n",
        "\n",
        "print(\"Max is\", mx)"
      ]
    },
    {
      "cell_type": "code",
      "execution_count": null,
      "id": "2ebe2bb0-d28d-4c57-9ac9-7f81b58cbd80",
      "metadata": {
        "id": "2ebe2bb0-d28d-4c57-9ac9-7f81b58cbd80",
        "colab": {
          "base_uri": "https://localhost:8080/"
        },
        "outputId": "f08528c7-088a-4249-89a5-f0fd2125ad5a"
      },
      "outputs": [
        {
          "output_type": "stream",
          "name": "stdout",
          "text": [
            "200\n",
            "20\n"
          ]
        }
      ],
      "source": [
        "print(max(runs))\n",
        "print(min(runs))"
      ]
    },
    {
      "cell_type": "code",
      "execution_count": null,
      "id": "a3265472-ea9d-40ab-a6f4-614a29961d70",
      "metadata": {
        "id": "a3265472-ea9d-40ab-a6f4-614a29961d70"
      },
      "outputs": [],
      "source": [
        "# Break - 10:10pm"
      ]
    },
    {
      "cell_type": "code",
      "execution_count": null,
      "id": "99fb910d-7ffa-4f1b-a134-9280b0bf9fae",
      "metadata": {
        "id": "99fb910d-7ffa-4f1b-a134-9280b0bf9fae"
      },
      "outputs": [],
      "source": []
    },
    {
      "cell_type": "code",
      "execution_count": null,
      "id": "984785b9-ee62-4eb3-9df7-33b09e7eaa0b",
      "metadata": {
        "id": "984785b9-ee62-4eb3-9df7-33b09e7eaa0b"
      },
      "outputs": [],
      "source": []
    },
    {
      "cell_type": "markdown",
      "id": "4813cfd1-af2d-4db8-b63d-6986c943805e",
      "metadata": {
        "id": "4813cfd1-af2d-4db8-b63d-6986c943805e"
      },
      "source": [
        "### List Slicing"
      ]
    },
    {
      "cell_type": "code",
      "execution_count": null,
      "id": "d1e54501-e500-4819-aaad-5bc26a3206b0",
      "metadata": {
        "id": "d1e54501-e500-4819-aaad-5bc26a3206b0"
      },
      "outputs": [],
      "source": [
        "# Quiz"
      ]
    },
    {
      "cell_type": "code",
      "execution_count": null,
      "id": "099ee2f7-f3f9-493d-932d-75cc6f5724e9",
      "metadata": {
        "id": "099ee2f7-f3f9-493d-932d-75cc6f5724e9"
      },
      "outputs": [],
      "source": [
        "l = [5,2,3,9,8]"
      ]
    },
    {
      "cell_type": "code",
      "execution_count": null,
      "id": "54373e0d-2dcf-4807-acfa-e85cf2a83e25",
      "metadata": {
        "id": "54373e0d-2dcf-4807-acfa-e85cf2a83e25",
        "colab": {
          "base_uri": "https://localhost:8080/"
        },
        "outputId": "038cd5bf-268a-4491-8fc3-bb063e229461"
      },
      "outputs": [
        {
          "output_type": "stream",
          "name": "stdout",
          "text": [
            "[8, 9, 3]\n"
          ]
        }
      ],
      "source": [
        "print(l[-1:-4:-1])"
      ]
    },
    {
      "cell_type": "code",
      "execution_count": null,
      "id": "0c9438bc-5a0b-42b6-a29d-974b733c9f26",
      "metadata": {
        "id": "0c9438bc-5a0b-42b6-a29d-974b733c9f26",
        "colab": {
          "base_uri": "https://localhost:8080/"
        },
        "outputId": "fb5da0d6-23ef-436a-96c0-38a88983e219"
      },
      "outputs": [
        {
          "output_type": "stream",
          "name": "stdout",
          "text": [
            "[8, 3, 5]\n"
          ]
        }
      ],
      "source": [
        "print(l[-1:-6:-2])"
      ]
    },
    {
      "cell_type": "code",
      "source": [
        "# Trick question\n",
        "print(l[4:-1:-1])"
      ],
      "metadata": {
        "colab": {
          "base_uri": "https://localhost:8080/"
        },
        "id": "viA3THL3vkz9",
        "outputId": "e5a6787e-de29-4c4b-988a-204e049ae57e"
      },
      "id": "viA3THL3vkz9",
      "execution_count": null,
      "outputs": [
        {
          "output_type": "stream",
          "name": "stdout",
          "text": [
            "[]\n"
          ]
        }
      ]
    },
    {
      "cell_type": "code",
      "execution_count": null,
      "id": "3ec0e075-9638-4d28-8815-c879bad3fc38",
      "metadata": {
        "id": "3ec0e075-9638-4d28-8815-c879bad3fc38"
      },
      "outputs": [],
      "source": [
        "# Reversing"
      ]
    },
    {
      "cell_type": "code",
      "source": [
        "# Using negative jumps in slicing\n",
        "# Default values change\n",
        "# start -> -1\n",
        "# end -> -1en(list)-1\n",
        "\n",
        "print(l[-1:-6:-1])\n",
        "print(l[-1: :-1])\n",
        "print(l[ : :-1])"
      ],
      "metadata": {
        "colab": {
          "base_uri": "https://localhost:8080/"
        },
        "id": "1AUWln1gvu7o",
        "outputId": "5772c493-c76b-4733-ca35-e16d41a08a65"
      },
      "id": "1AUWln1gvu7o",
      "execution_count": null,
      "outputs": [
        {
          "output_type": "stream",
          "name": "stdout",
          "text": [
            "[8, 9, 3, 2, 5]\n",
            "[8, 9, 3, 2, 5]\n",
            "[8, 9, 3, 2, 5]\n"
          ]
        }
      ]
    },
    {
      "cell_type": "code",
      "execution_count": null,
      "id": "2a212dc7-b7bb-427d-ac03-903006dca045",
      "metadata": {
        "id": "2a212dc7-b7bb-427d-ac03-903006dca045"
      },
      "outputs": [],
      "source": []
    },
    {
      "cell_type": "code",
      "execution_count": null,
      "id": "bed2ba58-f194-4315-a04c-dd759d1cb941",
      "metadata": {
        "id": "bed2ba58-f194-4315-a04c-dd759d1cb941"
      },
      "outputs": [],
      "source": [
        "# sum of even index elements"
      ]
    },
    {
      "cell_type": "code",
      "execution_count": null,
      "id": "e66bfd51-69e2-4fc2-882d-6ddbbd4c0659",
      "metadata": {
        "id": "e66bfd51-69e2-4fc2-882d-6ddbbd4c0659",
        "outputId": "6827bde9-3cb9-4507-ac09-d6c3c3a5ce02",
        "colab": {
          "base_uri": "https://localhost:8080/"
        }
      },
      "outputs": [
        {
          "output_type": "stream",
          "name": "stdout",
          "text": [
            "[100, 150, 199, 20, 99, 200, 99, 120]\n"
          ]
        }
      ],
      "source": [
        "print(runs)\n",
        "\n",
        "# Use list slicing\n",
        "# Use sum function"
      ]
    },
    {
      "cell_type": "code",
      "execution_count": null,
      "id": "8216394a-e76e-40f7-b39f-b4e03ad2da1d",
      "metadata": {
        "id": "8216394a-e76e-40f7-b39f-b4e03ad2da1d",
        "colab": {
          "base_uri": "https://localhost:8080/"
        },
        "outputId": "71df16ae-23a6-44c1-a1ad-8dcd989aa2e0"
      },
      "outputs": [
        {
          "output_type": "execute_result",
          "data": {
            "text/plain": [
              "497"
            ]
          },
          "metadata": {},
          "execution_count": 33
        }
      ],
      "source": [
        "sum(runs[ : :2])"
      ]
    },
    {
      "cell_type": "code",
      "execution_count": null,
      "id": "fcf02f27-92f4-4ec9-b29b-4d1f412807ca",
      "metadata": {
        "id": "fcf02f27-92f4-4ec9-b29b-4d1f412807ca"
      },
      "outputs": [],
      "source": [
        "# sum of odd index elements"
      ]
    },
    {
      "cell_type": "code",
      "execution_count": null,
      "id": "f1079b24-e0af-49a2-8331-5841bf1e5d18",
      "metadata": {
        "id": "f1079b24-e0af-49a2-8331-5841bf1e5d18"
      },
      "outputs": [],
      "source": [
        "# odd index: 1, 3, 5, 7..."
      ]
    },
    {
      "cell_type": "code",
      "execution_count": null,
      "id": "e7aa8546-3d7b-43ff-add7-020bf57c57d0",
      "metadata": {
        "id": "e7aa8546-3d7b-43ff-add7-020bf57c57d0",
        "colab": {
          "base_uri": "https://localhost:8080/"
        },
        "outputId": "d551e1fd-801e-4921-84f7-b7bbbf008c3a"
      },
      "outputs": [
        {
          "output_type": "execute_result",
          "data": {
            "text/plain": [
              "490"
            ]
          },
          "metadata": {},
          "execution_count": 34
        }
      ],
      "source": [
        "sum(runs[1: :2])"
      ]
    },
    {
      "cell_type": "code",
      "source": [],
      "metadata": {
        "id": "DhrU0DeOyY2n"
      },
      "id": "DhrU0DeOyY2n",
      "execution_count": null,
      "outputs": []
    },
    {
      "cell_type": "code",
      "execution_count": null,
      "id": "c6dfabf6-3db7-4dd6-95fa-71715f541285",
      "metadata": {
        "id": "c6dfabf6-3db7-4dd6-95fa-71715f541285"
      },
      "outputs": [],
      "source": [
        "# Rotate\n",
        "# https://www.scaler.com/hire/test/problem/22762/"
      ]
    },
    {
      "cell_type": "code",
      "execution_count": null,
      "id": "d14bd4d1-99e1-4afa-ba0d-c66756e8a96d",
      "metadata": {
        "id": "d14bd4d1-99e1-4afa-ba0d-c66756e8a96d"
      },
      "outputs": [],
      "source": [
        "l = [5,2,3,9,8]\n",
        "# Rotate it by 1\n",
        "# Note - Using list slicing"
      ]
    },
    {
      "cell_type": "code",
      "execution_count": null,
      "id": "632a26e6-14f2-4693-8931-4e42e4f2e5ef",
      "metadata": {
        "id": "632a26e6-14f2-4693-8931-4e42e4f2e5ef",
        "colab": {
          "base_uri": "https://localhost:8080/"
        },
        "outputId": "2273941b-cc1d-40a5-b8a2-2dd07afb631f"
      },
      "outputs": [
        {
          "output_type": "stream",
          "name": "stdout",
          "text": [
            "[8, 5, 2, 3, 9]\n"
          ]
        }
      ],
      "source": [
        "left = l[ :len(l)-1]\n",
        "right = l[len(l)-1: ]\n",
        "\n",
        "new_l = right + left\n",
        "print(new_l)"
      ]
    },
    {
      "cell_type": "code",
      "execution_count": null,
      "id": "085d99fd-c7b7-41c6-b5f2-2ce25fc967fc",
      "metadata": {
        "id": "085d99fd-c7b7-41c6-b5f2-2ce25fc967fc"
      },
      "outputs": [],
      "source": []
    },
    {
      "cell_type": "code",
      "execution_count": null,
      "id": "25e2a43b-5e1f-4e2e-b094-f92fbc126a28",
      "metadata": {
        "id": "25e2a43b-5e1f-4e2e-b094-f92fbc126a28"
      },
      "outputs": [],
      "source": [
        "# Doubts"
      ]
    },
    {
      "cell_type": "code",
      "source": [
        "s = '1 2 3 4'"
      ],
      "metadata": {
        "id": "G0gzeUn01AwW"
      },
      "id": "G0gzeUn01AwW",
      "execution_count": null,
      "outputs": []
    },
    {
      "cell_type": "code",
      "source": [
        "s.split()"
      ],
      "metadata": {
        "colab": {
          "base_uri": "https://localhost:8080/"
        },
        "id": "yIsiflne1D2u",
        "outputId": "3cc5b229-a33c-4050-b56a-754c5751df4f"
      },
      "id": "yIsiflne1D2u",
      "execution_count": null,
      "outputs": [
        {
          "output_type": "execute_result",
          "data": {
            "text/plain": [
              "['1', '2', '3', '4']"
            ]
          },
          "metadata": {},
          "execution_count": 37
        }
      ]
    },
    {
      "cell_type": "code",
      "source": [
        "s.split(' ')"
      ],
      "metadata": {
        "colab": {
          "base_uri": "https://localhost:8080/"
        },
        "id": "uUnmk4Vj1Gme",
        "outputId": "0141364d-69ed-48e1-fb1d-4ecfa374599e"
      },
      "id": "uUnmk4Vj1Gme",
      "execution_count": null,
      "outputs": [
        {
          "output_type": "execute_result",
          "data": {
            "text/plain": [
              "['1', '2', '3', '4']"
            ]
          },
          "metadata": {},
          "execution_count": 38
        }
      ]
    },
    {
      "cell_type": "code",
      "source": [
        "s.split?"
      ],
      "metadata": {
        "id": "Be5HWYta1K8q"
      },
      "id": "Be5HWYta1K8q",
      "execution_count": null,
      "outputs": []
    },
    {
      "cell_type": "code",
      "source": [
        "s = '1 2 \\t 3 4'\n",
        "print(s.split())\n",
        "print(s.split(' '))"
      ],
      "metadata": {
        "colab": {
          "base_uri": "https://localhost:8080/"
        },
        "id": "TJ785lcx1YPQ",
        "outputId": "64ef7340-d82a-4c76-b98e-dbfe362c952e"
      },
      "id": "TJ785lcx1YPQ",
      "execution_count": null,
      "outputs": [
        {
          "output_type": "stream",
          "name": "stdout",
          "text": [
            "['1', '2', '3', '4']\n",
            "['1', '2', '\\t', '3', '4']\n"
          ]
        }
      ]
    }
  ],
  "metadata": {
    "kernelspec": {
      "display_name": "Python 3 (ipykernel)",
      "language": "python",
      "name": "python3"
    },
    "language_info": {
      "codemirror_mode": {
        "name": "ipython",
        "version": 3
      },
      "file_extension": ".py",
      "mimetype": "text/x-python",
      "name": "python",
      "nbconvert_exporter": "python",
      "pygments_lexer": "ipython3",
      "version": "3.9.7"
    },
    "colab": {
      "provenance": [],
      "include_colab_link": true
    }
  },
  "nbformat": 4,
  "nbformat_minor": 5
}