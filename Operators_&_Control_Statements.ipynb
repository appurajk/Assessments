{
  "nbformat": 4,
  "nbformat_minor": 0,
  "metadata": {
    "colab": {
      "provenance": [],
      "include_colab_link": true
    },
    "kernelspec": {
      "name": "python3",
      "display_name": "Python 3"
    },
    "language_info": {
      "name": "python"
    }
  },
  "cells": [
    {
      "cell_type": "markdown",
      "metadata": {
        "id": "view-in-github",
        "colab_type": "text"
      },
      "source": [
        "<a href=\"https://colab.research.google.com/github/appurajk/Assessments/blob/main/Operators_%26_Control_Statements.ipynb\" target=\"_parent\"><img src=\"https://colab.research.google.com/assets/colab-badge.svg\" alt=\"Open In Colab\"/></a>"
      ]
    },
    {
      "cell_type": "markdown",
      "source": [
        "### Expression\n",
        "- Operators\n",
        "- Operands\n",
        "  - Operators + Operands = Expression"
      ],
      "metadata": {
        "id": "s_uRlDhtdG4v"
      }
    },
    {
      "cell_type": "code",
      "source": [
        "## Recap Quiz\n",
        "\n",
        "# 5, 7 -> operands\n",
        "# + -> operator\n",
        "# 5 + 7 -> expression"
      ],
      "metadata": {
        "id": "840ZQ67MdTWB"
      },
      "execution_count": null,
      "outputs": []
    },
    {
      "cell_type": "markdown",
      "source": [
        "## Arithmetic Operators\n",
        "- Addition\n",
        "- Subtraction\n",
        "- Division\n",
        "- Multiplication\n",
        "- mod (%)\n",
        "- Floor division (//)\n",
        "- To the power (**)\n",
        "\n"
      ],
      "metadata": {
        "id": "Wl1fDF8Wd9pF"
      }
    },
    {
      "cell_type": "code",
      "source": [
        "### These operators allow us to perform arithmetic operations in Python.\n",
        "\n",
        "a = 8\n",
        "b = 5\n",
        "\n",
        "# addition\n",
        "add = a + b\n",
        "# 8 + 5 = 13\n",
        "\n",
        "# subtration\n",
        "sub = a - b\n",
        "# 8 - 5 = 3\n",
        "\n",
        "# multiply\n",
        "mul = a * b\n",
        "# 8 * 5 = 40\n",
        "\n",
        "# divide\n",
        "div = a / b\n",
        "# 8 / 5 = 1.6\n",
        "\n",
        "print(add, sub, mul, div)"
      ],
      "metadata": {
        "id": "dFaUQ1x4dXgP",
        "colab": {
          "base_uri": "https://localhost:8080/"
        },
        "outputId": "ea4d3db9-a171-4cdd-a193-4534359942f6"
      },
      "execution_count": null,
      "outputs": [
        {
          "output_type": "stream",
          "name": "stdout",
          "text": [
            "13 3 40 1.6\n"
          ]
        }
      ]
    },
    {
      "cell_type": "code",
      "source": [
        "print(13%5)\n",
        "print(5/2)\n",
        "print(5//2)\n",
        "print(2**4)"
      ],
      "metadata": {
        "id": "bvcpWM6meeBF",
        "colab": {
          "base_uri": "https://localhost:8080/"
        },
        "outputId": "e70c3705-1793-44c4-e387-a0fb61c81f22"
      },
      "execution_count": null,
      "outputs": [
        {
          "output_type": "stream",
          "name": "stdout",
          "text": [
            "3\n",
            "2.5\n",
            "2\n",
            "16\n"
          ]
        }
      ]
    },
    {
      "cell_type": "markdown",
      "source": [
        "### Comparison Operators\n",
        "- == (True if equal)\n",
        "- != (True if not equal)\n",
        "- < (Less than) & > (Greater than)\n",
        "- <= (Less than or equal to) & >= (Greater than or equal to)"
      ],
      "metadata": {
        "id": "TzaxEE7KeyDs"
      }
    },
    {
      "cell_type": "code",
      "source": [
        "# Comparison operators can be used to compare values in mathematical\n",
        "# terms.\n",
        "\n",
        "# == it will give true of both values are same else a False\n",
        "print(2 == 2)\n",
        "print(3 == 2)"
      ],
      "metadata": {
        "id": "fzy71Mt_e3di",
        "colab": {
          "base_uri": "https://localhost:8080/"
        },
        "outputId": "cce0a4fe-5b01-44bb-f41a-e17b729f29fc"
      },
      "execution_count": null,
      "outputs": [
        {
          "output_type": "stream",
          "name": "stdout",
          "text": [
            "True\n",
            "False\n"
          ]
        }
      ]
    },
    {
      "cell_type": "code",
      "source": [
        "# != not equal\n",
        "print(3 != 2)"
      ],
      "metadata": {
        "id": "UPuZxrXVfCvZ",
        "colab": {
          "base_uri": "https://localhost:8080/"
        },
        "outputId": "56aa845c-dfbb-4b1d-cd32-86d2e6509273"
      },
      "execution_count": null,
      "outputs": [
        {
          "output_type": "stream",
          "name": "stdout",
          "text": [
            "True\n"
          ]
        }
      ]
    },
    {
      "cell_type": "code",
      "source": [
        "# < and >\n",
        "print(2 < 3)\n",
        "print(3 > 3)"
      ],
      "metadata": {
        "id": "t6WSyCtUfMEl",
        "colab": {
          "base_uri": "https://localhost:8080/"
        },
        "outputId": "56e548dc-4772-414e-af61-b6546569bf0e"
      },
      "execution_count": null,
      "outputs": [
        {
          "output_type": "stream",
          "name": "stdout",
          "text": [
            "True\n",
            "False\n"
          ]
        }
      ]
    },
    {
      "cell_type": "code",
      "source": [
        "## <= and >=\n",
        "\n",
        "print(2 <= 3)\n",
        "print(3 <= 3)\n",
        "print(2 >= 3)\n",
        "print(6 <= 5)"
      ],
      "metadata": {
        "id": "bASerlGOfU-b",
        "colab": {
          "base_uri": "https://localhost:8080/"
        },
        "outputId": "224498d6-ccca-437c-f30d-f7fa3387526e"
      },
      "execution_count": null,
      "outputs": [
        {
          "output_type": "stream",
          "name": "stdout",
          "text": [
            "True\n",
            "True\n",
            "False\n",
            "False\n"
          ]
        }
      ]
    },
    {
      "cell_type": "markdown",
      "source": [
        "### Compound Assignment Operators\n",
        " -= , += , /= , *= , //="
      ],
      "metadata": {
        "id": "T_gu8yX9fbhj"
      }
    },
    {
      "cell_type": "code",
      "source": [
        "a = 3\n",
        "a = a + 2\n",
        "print(a)"
      ],
      "metadata": {
        "id": "-YEme159fgYU",
        "colab": {
          "base_uri": "https://localhost:8080/"
        },
        "outputId": "5ac98adc-9db7-47d8-e4d2-b9cb18ad0a65"
      },
      "execution_count": null,
      "outputs": [
        {
          "output_type": "stream",
          "name": "stdout",
          "text": [
            "5\n"
          ]
        }
      ]
    },
    {
      "cell_type": "code",
      "source": [
        "# Increments the variable value by the given value\n",
        "a += 2 # same as a = a + 2\n",
        "print(a)"
      ],
      "metadata": {
        "id": "TjGIyfvF3B4X",
        "colab": {
          "base_uri": "https://localhost:8080/"
        },
        "outputId": "30e9c060-8771-45e7-e8c8-a25c66df22dd"
      },
      "execution_count": null,
      "outputs": [
        {
          "output_type": "stream",
          "name": "stdout",
          "text": [
            "7\n"
          ]
        }
      ]
    },
    {
      "cell_type": "code",
      "source": [
        "a -= 2 # same as a = a - 2\n",
        "print(a)"
      ],
      "metadata": {
        "id": "I_fFI6Q_3E8M",
        "colab": {
          "base_uri": "https://localhost:8080/"
        },
        "outputId": "adff2839-751d-47f2-b142-77ddb3c25558"
      },
      "execution_count": null,
      "outputs": [
        {
          "output_type": "stream",
          "name": "stdout",
          "text": [
            "5\n"
          ]
        }
      ]
    },
    {
      "cell_type": "code",
      "source": [
        "a = 3\n",
        "a *= 3 # a = a * 3\n",
        "print(a)"
      ],
      "metadata": {
        "id": "ENBUdPfN3JLd",
        "colab": {
          "base_uri": "https://localhost:8080/"
        },
        "outputId": "f133dc59-2cc0-4a60-e4a5-1df6a6f9ed70"
      },
      "execution_count": null,
      "outputs": [
        {
          "output_type": "stream",
          "name": "stdout",
          "text": [
            "9\n"
          ]
        }
      ]
    },
    {
      "cell_type": "code",
      "source": [
        "a = 10\n",
        "a //= 5 # a = a//5\n",
        "print(a)"
      ],
      "metadata": {
        "colab": {
          "base_uri": "https://localhost:8080/"
        },
        "id": "UpxHERnBBBoc",
        "outputId": "45d77131-d52d-4654-cd20-69aada065da9"
      },
      "execution_count": null,
      "outputs": [
        {
          "output_type": "stream",
          "name": "stdout",
          "text": [
            "2\n"
          ]
        }
      ]
    },
    {
      "cell_type": "code",
      "source": [
        "a = 10\n",
        "a %= 3\n",
        "print(a)"
      ],
      "metadata": {
        "colab": {
          "base_uri": "https://localhost:8080/"
        },
        "id": "ZY7zSRRiBPXk",
        "outputId": "dc7f92f1-7940-4e36-ae51-88ce94fd57eb"
      },
      "execution_count": null,
      "outputs": [
        {
          "output_type": "stream",
          "name": "stdout",
          "text": [
            "1\n"
          ]
        }
      ]
    },
    {
      "cell_type": "code",
      "source": [
        "a = 2\n",
        "a **= 4\n",
        "print(a)"
      ],
      "metadata": {
        "colab": {
          "base_uri": "https://localhost:8080/"
        },
        "id": "1I0gvjZ5BWVe",
        "outputId": "b1350b8f-082d-4b79-a10b-5fc23be7f992"
      },
      "execution_count": null,
      "outputs": [
        {
          "output_type": "stream",
          "name": "stdout",
          "text": [
            "16\n"
          ]
        }
      ]
    },
    {
      "cell_type": "markdown",
      "source": [
        "### Logical Operators\n",
        "- and\n",
        "- or\n",
        "- not"
      ],
      "metadata": {
        "id": "uUU2V5Hu3bii"
      }
    },
    {
      "cell_type": "code",
      "source": [
        "# Logical expressions are formed using Booleans and logical operators."
      ],
      "metadata": {
        "id": "usjh5fYy3MHA"
      },
      "execution_count": null,
      "outputs": []
    },
    {
      "cell_type": "code",
      "source": [
        "# and\n",
        "\n",
        "# Condition A\n",
        "# Condition B\n",
        "\n",
        "# If A and B are true, then true otherwise false\n",
        "\n",
        "'''\n",
        "A B Result\n",
        "T T T\n",
        "T F F\n",
        "F T F\n",
        "F F F\n",
        "'''\n",
        "\n",
        "print(True and True)\n",
        "print(False and True)"
      ],
      "metadata": {
        "colab": {
          "base_uri": "https://localhost:8080/"
        },
        "id": "hVLT7M45itNA",
        "outputId": "05d406f9-3d17-4b94-c3d6-f798fb8dfddb"
      },
      "execution_count": null,
      "outputs": [
        {
          "output_type": "stream",
          "name": "stdout",
          "text": [
            "True\n",
            "False\n"
          ]
        }
      ]
    },
    {
      "cell_type": "code",
      "source": [
        "# or\n",
        "\n",
        "# Condition A\n",
        "# Condition B\n",
        "\n",
        "# If A or B is true, then true otherwise false\n",
        "\n",
        "'''\n",
        "A B Result\n",
        "T T T\n",
        "T F T\n",
        "F T T\n",
        "F F F\n",
        "'''\n",
        "\n",
        "print(True or False)\n",
        "print(False or False)"
      ],
      "metadata": {
        "colab": {
          "base_uri": "https://localhost:8080/"
        },
        "id": "Pezf8VuZ3raZ",
        "outputId": "c40bc40a-ffce-4025-8fe3-05a25303c699"
      },
      "execution_count": null,
      "outputs": [
        {
          "output_type": "stream",
          "name": "stdout",
          "text": [
            "True\n",
            "False\n"
          ]
        }
      ]
    },
    {
      "cell_type": "code",
      "source": [
        "# not\n",
        "\n",
        "# Condition A\n",
        "\n",
        "# If A is true then false and vice-versa\n",
        "\n",
        "'''\n",
        "A Result\n",
        "T F\n",
        "F T\n",
        "'''\n",
        "\n",
        "print(not True)\n",
        "print(not False)"
      ],
      "metadata": {
        "colab": {
          "base_uri": "https://localhost:8080/"
        },
        "id": "dtpRblLE3xHS",
        "outputId": "0b4a81f7-79cf-4d09-eb44-c02519756a34"
      },
      "execution_count": null,
      "outputs": [
        {
          "output_type": "stream",
          "name": "stdout",
          "text": [
            "False\n",
            "True\n"
          ]
        }
      ]
    },
    {
      "cell_type": "code",
      "source": [
        "# Quiz 1\n",
        "print(True and (not False))\n",
        "\n",
        "# Quiz 2\n",
        "print(10 <= 8)"
      ],
      "metadata": {
        "colab": {
          "base_uri": "https://localhost:8080/"
        },
        "id": "67VHazcKykMZ",
        "outputId": "84334338-9d39-4de9-8dd8-bcbfb4d1a01f"
      },
      "execution_count": null,
      "outputs": [
        {
          "output_type": "stream",
          "name": "stdout",
          "text": [
            "True\n",
            "False\n"
          ]
        }
      ]
    },
    {
      "cell_type": "code",
      "source": [
        "# Quiz 3\n",
        "# print( '1' < 2 ) error\n",
        "print( 1 < 1.35 )\n",
        "print( True == 1 )\n",
        "print( True == 5 )"
      ],
      "metadata": {
        "colab": {
          "base_uri": "https://localhost:8080/"
        },
        "id": "3_dvSVHkzHaS",
        "outputId": "0e800075-d2cb-4a60-9608-1d6b5c7065aa"
      },
      "execution_count": null,
      "outputs": [
        {
          "output_type": "stream",
          "name": "stdout",
          "text": [
            "True\n",
            "True\n",
            "False\n"
          ]
        }
      ]
    },
    {
      "cell_type": "markdown",
      "source": [
        "Break - 10:10pm"
      ],
      "metadata": {
        "id": "F1XM2CbU2iKm"
      }
    },
    {
      "cell_type": "markdown",
      "source": [
        "### Conditional Statements"
      ],
      "metadata": {
        "id": "9xmC1R2AICrS"
      }
    },
    {
      "cell_type": "code",
      "source": [
        "# Take the age of a person as input, print whether they're eligible to vote\n",
        "# age = 21, Eligible\n",
        "# age = 15, Not eligible\n",
        "\n",
        "age = int(input())\n",
        "if age >= 18 :\n",
        "  print(\"Eligible\")\n",
        "else :\n",
        "  print(\"Not eligible\")"
      ],
      "metadata": {
        "colab": {
          "base_uri": "https://localhost:8080/"
        },
        "id": "42SygtAl2bcb",
        "outputId": "33d2ef93-5670-4b1d-dec0-18c15aaed6f8"
      },
      "execution_count": null,
      "outputs": [
        {
          "output_type": "stream",
          "name": "stdout",
          "text": [
            "10\n",
            "Not eligible\n"
          ]
        }
      ]
    },
    {
      "cell_type": "markdown",
      "source": [
        "There are three types of conditional statements in Python:\n",
        "- if\n",
        "- if-else\n",
        "- if-elif-else"
      ],
      "metadata": {
        "id": "-rQtOY20IbPr"
      }
    },
    {
      "cell_type": "code",
      "source": [
        "weather = input()\n",
        "if weather == \"rainy\":\n",
        "  # this block of code will execute only when condition is True\n",
        "  print(\"Take an umbrella\")\n",
        "  print(\"Take a raincoat\")\n",
        "\n",
        "print(\"Always be happy!\")"
      ],
      "metadata": {
        "colab": {
          "base_uri": "https://localhost:8080/"
        },
        "id": "7x93HM-aDN7Z",
        "outputId": "4cb60bcf-cfcf-488c-e17c-309b09dd6a61"
      },
      "execution_count": null,
      "outputs": [
        {
          "output_type": "stream",
          "name": "stdout",
          "text": [
            "sunny\n",
            "Always be happy!\n"
          ]
        }
      ]
    },
    {
      "cell_type": "code",
      "source": [
        "weather = input()\n",
        "if weather == \"rainy\":\n",
        "  # this block of code will execute only when condition is True\n",
        "  print(\"Take an umbrella\")\n",
        "else:\n",
        "  # this block of code will execute only when condition is False\n",
        "  print(\"Go enjoy outside\")"
      ],
      "metadata": {
        "colab": {
          "base_uri": "https://localhost:8080/"
        },
        "id": "1kPzQ1CFIltx",
        "outputId": "3ea8da1d-ce44-4338-b144-6fcf29bc1e57"
      },
      "execution_count": null,
      "outputs": [
        {
          "output_type": "stream",
          "name": "stdout",
          "text": [
            "autumn\n",
            "Go enjoy outside\n"
          ]
        }
      ]
    },
    {
      "cell_type": "markdown",
      "source": [
        "### if - elif - else\n",
        "The if-else statement handles two sides of the same condition: True and False.\n",
        "\n",
        "This works very\n",
        "well if we’re working with a problem that only has two outcomes. However, in programming, it\n",
        "isn’t always a True or False scenario, and a problem can have multiple outcomes."
      ],
      "metadata": {
        "id": "O-P3tfd1I-u8"
      }
    },
    {
      "cell_type": "code",
      "source": [
        "## Challenge: Traffic light\n",
        "\n",
        "light = input()\n",
        "\n",
        "if light == 'Green' :\n",
        "  print(\"Go\")\n",
        "elif light == 'Yellow' :\n",
        "  print(\"Warning\")\n",
        "else :\n",
        "  print(\"Stop\")"
      ],
      "metadata": {
        "id": "K6gKZfIzItKe",
        "colab": {
          "base_uri": "https://localhost:8080/"
        },
        "outputId": "c62337db-e127-4e78-c03d-164dfc675bdd"
      },
      "execution_count": null,
      "outputs": [
        {
          "output_type": "stream",
          "name": "stdout",
          "text": [
            "Yellow\n",
            "Warning\n"
          ]
        }
      ]
    },
    {
      "cell_type": "code",
      "source": [
        "# Given 2 integers A and B as input, print whether A is bigger or B is bigger or they're equal\n",
        "# A=4, B=6 : 6 is bigger\n",
        "# A=9, B=6 : 9 is bigger\n",
        "# A=3, B=3 : Equal\n",
        "\n",
        "A = int(input())\n",
        "B = int(input())\n",
        "if A > B :\n",
        "  print(A, \"is bigger\")\n",
        "elif B > A :\n",
        "  print(B, \"is bigger\")\n",
        "else :\n",
        "  print(\"Equal\")"
      ],
      "metadata": {
        "colab": {
          "base_uri": "https://localhost:8080/"
        },
        "id": "-5x4ZXri7j0i",
        "outputId": "53759b8c-cd39-4f8e-e587-4630cbbd95c8"
      },
      "execution_count": null,
      "outputs": [
        {
          "output_type": "stream",
          "name": "stdout",
          "text": [
            "3\n",
            "3\n",
            "Equal\n"
          ]
        }
      ]
    },
    {
      "cell_type": "markdown",
      "source": [
        "Take user input marks and print the grade\n",
        "\n",
        "A for more than 90\n",
        "\n",
        "B for 81 to 90\n",
        "\n",
        "C for 71 to 80\n",
        "\n",
        "D for 70 and less\n",
        "\n",
        "else print \"Invalid Marks\"\n",
        "\n",
        "Note : Marks are between 0 and 100 ( inclusive )"
      ],
      "metadata": {
        "id": "LxqSlBr1JIYL"
      }
    },
    {
      "cell_type": "code",
      "source": [
        "marks = int(input())\n",
        "\n",
        "if 91 <= marks <= 100 :\n",
        "  print(\"A\")\n",
        "elif 81 <= marks <= 90 :\n",
        "  print(\"B\")\n",
        "elif 71 <= marks <= 80 :\n",
        "  print(\"C\")\n",
        "elif 0 <= marks <= 70 :\n",
        "  print(\"D\")\n",
        "else :\n",
        "  print(\"Invalid\")"
      ],
      "metadata": {
        "colab": {
          "base_uri": "https://localhost:8080/"
        },
        "id": "vg10sKOX9wYZ",
        "outputId": "e71fcc7f-aee6-4f48-de59-4cb234db2174"
      },
      "execution_count": null,
      "outputs": [
        {
          "output_type": "stream",
          "name": "stdout",
          "text": [
            "93\n",
            "A\n"
          ]
        }
      ]
    }
  ]
}