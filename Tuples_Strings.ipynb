{
  "cells": [
    {
      "cell_type": "markdown",
      "metadata": {
        "id": "view-in-github",
        "colab_type": "text"
      },
      "source": [
        "<a href=\"https://colab.research.google.com/github/appurajk/Assessments/blob/main/Tuples_Strings.ipynb\" target=\"_parent\"><img src=\"https://colab.research.google.com/assets/colab-badge.svg\" alt=\"Open In Colab\"/></a>"
      ]
    },
    {
      "cell_type": "markdown",
      "id": "0e7334ae-746e-4b70-a029-322371584b3f",
      "metadata": {
        "id": "0e7334ae-746e-4b70-a029-322371584b3f"
      },
      "source": [
        "## Tuples\n",
        "- Tuples are used to hold together multiple objects. Think of them as similar to lists, but without the extensive functionality that the list class gives you. One major feature of tuples is that they are immutable like strings i.e. you cannot modify tuples.\n",
        "\n",
        "- Tuples are defined by specifying items separated by commas within an optional pair of parentheses.\n",
        "\n",
        "- Tuples are usually used in cases where a statement or a user-defined function can safely assume that the collection of values i.e. the tuple of values used will **not change**."
      ]
    },
    {
      "cell_type": "code",
      "execution_count": null,
      "id": "5c682899-b84f-4298-bcfb-bad2b5f88a7b",
      "metadata": {
        "id": "5c682899-b84f-4298-bcfb-bad2b5f88a7b"
      },
      "outputs": [],
      "source": [
        "# The intern at NASA"
      ]
    },
    {
      "cell_type": "code",
      "execution_count": null,
      "id": "1c190669-62f4-411f-a814-39a89447f46f",
      "metadata": {
        "colab": {
          "base_uri": "https://localhost:8080/"
        },
        "id": "1c190669-62f4-411f-a814-39a89447f46f",
        "outputId": "6950b18c-436c-402f-eb7a-ad05feef5174"
      },
      "outputs": [
        {
          "output_type": "stream",
          "name": "stdout",
          "text": [
            "<class 'list'>\n",
            "['Mercury', 'Venus', 'Zombie', 'Mars', 'Jupiter', 'Saturn', 'Uranus', 'Neptune']\n"
          ]
        }
      ],
      "source": [
        "planets = [\"Mercury\", \"Venus\", \"Earth\", \"Mars\", \"Jupiter\", \"Saturn\", \"Uranus\", \"Neptune\"]\n",
        "planets[2] = \"Zombie\"\n",
        "print(type(planets))\n",
        "print(planets)"
      ]
    },
    {
      "cell_type": "code",
      "source": [
        "planets_t = (\"Mercury\", \"Venus\", \"Earth\", \"Mars\", \"Jupiter\", \"Saturn\", \"Uranus\", \"Neptune\")\n",
        "print(type(planets_t))\n",
        "print(planets_t)"
      ],
      "metadata": {
        "colab": {
          "base_uri": "https://localhost:8080/"
        },
        "id": "9GyjyKxlENso",
        "outputId": "4f26198a-a95f-4ac7-d970-30803b7a11ba"
      },
      "id": "9GyjyKxlENso",
      "execution_count": null,
      "outputs": [
        {
          "output_type": "stream",
          "name": "stdout",
          "text": [
            "<class 'tuple'>\n",
            "('Mercury', 'Venus', 'Earth', 'Mars', 'Jupiter', 'Saturn', 'Uranus', 'Neptune')\n"
          ]
        }
      ]
    },
    {
      "cell_type": "code",
      "execution_count": null,
      "id": "b92d76be-7466-4e59-a20e-4fc131cc887d",
      "metadata": {
        "colab": {
          "base_uri": "https://localhost:8080/",
          "height": 168
        },
        "id": "b92d76be-7466-4e59-a20e-4fc131cc887d",
        "outputId": "36d567da-6891-4b2b-9e8a-f9e3a703e2e9"
      },
      "outputs": [
        {
          "output_type": "error",
          "ename": "TypeError",
          "evalue": "ignored",
          "traceback": [
            "\u001b[0;31m---------------------------------------------------------------------------\u001b[0m",
            "\u001b[0;31mTypeError\u001b[0m                                 Traceback (most recent call last)",
            "\u001b[0;32m<ipython-input-6-66ab7b5d05d5>\u001b[0m in \u001b[0;36m<cell line: 1>\u001b[0;34m()\u001b[0m\n\u001b[0;32m----> 1\u001b[0;31m \u001b[0mplanets_t\u001b[0m\u001b[0;34m[\u001b[0m\u001b[0;36m2\u001b[0m\u001b[0;34m]\u001b[0m \u001b[0;34m=\u001b[0m \u001b[0;34m\"Zombie\"\u001b[0m\u001b[0;34m\u001b[0m\u001b[0;34m\u001b[0m\u001b[0m\n\u001b[0m",
            "\u001b[0;31mTypeError\u001b[0m: 'tuple' object does not support item assignment"
          ]
        }
      ],
      "source": [
        "planets_t[2] = \"Zombie\""
      ]
    },
    {
      "cell_type": "code",
      "execution_count": null,
      "id": "0a3d74ac-19dd-434d-81a0-98ddb9f2a874",
      "metadata": {
        "id": "0a3d74ac-19dd-434d-81a0-98ddb9f2a874"
      },
      "outputs": [],
      "source": [
        "# indexing"
      ]
    },
    {
      "cell_type": "code",
      "source": [
        "print(planets_t[2])"
      ],
      "metadata": {
        "colab": {
          "base_uri": "https://localhost:8080/"
        },
        "id": "HwysL9YfUrVn",
        "outputId": "60a8aff4-96ac-440f-a034-c084d9e375f3"
      },
      "id": "HwysL9YfUrVn",
      "execution_count": null,
      "outputs": [
        {
          "output_type": "stream",
          "name": "stdout",
          "text": [
            "Earth\n"
          ]
        }
      ]
    },
    {
      "cell_type": "code",
      "execution_count": null,
      "id": "7175c836-d5d3-428c-8f97-2aef9954af77",
      "metadata": {
        "colab": {
          "base_uri": "https://localhost:8080/"
        },
        "id": "7175c836-d5d3-428c-8f97-2aef9954af77",
        "outputId": "32796779-c817-417e-fb7a-76f946d411fd"
      },
      "outputs": [
        {
          "output_type": "stream",
          "name": "stdout",
          "text": [
            "Neptune\n"
          ]
        }
      ],
      "source": [
        "print(planets_t[-1])"
      ]
    },
    {
      "cell_type": "code",
      "execution_count": null,
      "id": "916c6255-c6ad-4cac-972d-0860d8207451",
      "metadata": {
        "id": "916c6255-c6ad-4cac-972d-0860d8207451"
      },
      "outputs": [],
      "source": []
    },
    {
      "cell_type": "code",
      "execution_count": null,
      "id": "2c1e3f07-1930-4d2e-9804-9c9c77c61bc9",
      "metadata": {
        "id": "2c1e3f07-1930-4d2e-9804-9c9c77c61bc9"
      },
      "outputs": [],
      "source": [
        "# Making tuples"
      ]
    },
    {
      "cell_type": "code",
      "source": [
        "# Making empty tuple\n",
        "\n",
        "# Approach 1\n",
        "t1 = tuple()\n",
        "print(type(t1), t1)\n",
        "\n",
        "# Approach 2\n",
        "t2 = ()\n",
        "print(type(t2), t2)"
      ],
      "metadata": {
        "colab": {
          "base_uri": "https://localhost:8080/"
        },
        "id": "TDzB37RNEVlk",
        "outputId": "9c3ed364-5460-4a20-d0ef-2ff529a408ac"
      },
      "id": "TDzB37RNEVlk",
      "execution_count": null,
      "outputs": [
        {
          "output_type": "stream",
          "name": "stdout",
          "text": [
            "<class 'tuple'> ()\n",
            "<class 'tuple'> ()\n"
          ]
        }
      ]
    },
    {
      "cell_type": "code",
      "source": [
        "# Making tuple with 1 item\n",
        "\n",
        "t = (\"Rahul\")\n",
        "print(type(t), t)\n",
        "# (1+1) = 2\n",
        "# (2) = 2\n",
        "# (\"Rahul\") = \"Rahul\"\n",
        "\n",
        "t3 = (\"Rahul\",)\n",
        "print(type(t3), t3, len(t3))"
      ],
      "metadata": {
        "colab": {
          "base_uri": "https://localhost:8080/"
        },
        "id": "DQXT_Z-SEWLK",
        "outputId": "c0b41422-49b9-4b71-f2cc-c49f0af80e4f"
      },
      "id": "DQXT_Z-SEWLK",
      "execution_count": null,
      "outputs": [
        {
          "output_type": "stream",
          "name": "stdout",
          "text": [
            "<class 'str'> Rahul\n",
            "<class 'tuple'> ('Rahul',) 1\n"
          ]
        }
      ]
    },
    {
      "cell_type": "code",
      "source": [],
      "metadata": {
        "id": "ZhBvRIUHEWNM"
      },
      "id": "ZhBvRIUHEWNM",
      "execution_count": null,
      "outputs": []
    },
    {
      "cell_type": "code",
      "source": [],
      "metadata": {
        "id": "31r97gr3EWPe"
      },
      "id": "31r97gr3EWPe",
      "execution_count": null,
      "outputs": []
    },
    {
      "cell_type": "code",
      "execution_count": null,
      "id": "6a756ec4-8a31-4f41-9b20-77e9c6823877",
      "metadata": {
        "id": "6a756ec4-8a31-4f41-9b20-77e9c6823877"
      },
      "outputs": [],
      "source": [
        "# tuple to list"
      ]
    },
    {
      "cell_type": "code",
      "execution_count": null,
      "id": "e0d90730-ac8d-44fc-946f-0f2cf052d5d4",
      "metadata": {
        "colab": {
          "base_uri": "https://localhost:8080/"
        },
        "id": "e0d90730-ac8d-44fc-946f-0f2cf052d5d4",
        "outputId": "2c29b583-79a8-4591-8964-c6f466130dfb"
      },
      "outputs": [
        {
          "output_type": "stream",
          "name": "stdout",
          "text": [
            "(1, 2, 3) <class 'tuple'>\n",
            "[1, 2, 3] <class 'list'>\n"
          ]
        }
      ],
      "source": [
        "t = (1, 2, 3)\n",
        "print(t, type(t))\n",
        "\n",
        "l = list(t)\n",
        "print(l, type(l))"
      ]
    },
    {
      "cell_type": "code",
      "execution_count": null,
      "id": "45244127-ef11-4740-b34e-8deb704b7624",
      "metadata": {
        "id": "45244127-ef11-4740-b34e-8deb704b7624"
      },
      "outputs": [],
      "source": [
        "# list to tuple"
      ]
    },
    {
      "cell_type": "code",
      "execution_count": null,
      "id": "2954394a-01dc-46a5-b55a-7e805301ee69",
      "metadata": {
        "colab": {
          "base_uri": "https://localhost:8080/"
        },
        "id": "2954394a-01dc-46a5-b55a-7e805301ee69",
        "outputId": "d380273d-d39d-46da-a64a-9173df3981c5"
      },
      "outputs": [
        {
          "output_type": "stream",
          "name": "stdout",
          "text": [
            "[1, 2, 3] <class 'list'>\n",
            "(1, 2, 3) <class 'tuple'>\n"
          ]
        }
      ],
      "source": [
        "l = [1, 2, 3]\n",
        "print(l, type(l))\n",
        "\n",
        "t = tuple(l)\n",
        "print(t, type(t))"
      ]
    },
    {
      "cell_type": "code",
      "execution_count": null,
      "id": "ff4c1e27-2cd1-4ed4-9137-44fbd94a08b8",
      "metadata": {
        "id": "ff4c1e27-2cd1-4ed4-9137-44fbd94a08b8"
      },
      "outputs": [],
      "source": [
        "# Iterating over a tuple\n",
        "# Note - Tuple is an iterable"
      ]
    },
    {
      "cell_type": "code",
      "execution_count": null,
      "id": "bb22dd83-20ae-4a1c-a2ad-89d070d82afc",
      "metadata": {
        "colab": {
          "base_uri": "https://localhost:8080/"
        },
        "id": "bb22dd83-20ae-4a1c-a2ad-89d070d82afc",
        "outputId": "cee719f5-f8d4-48c7-f7d5-430240e431c6"
      },
      "outputs": [
        {
          "output_type": "stream",
          "name": "stdout",
          "text": [
            "1 2 3 "
          ]
        }
      ],
      "source": [
        "for item in t :\n",
        "  print(item, end = ' ')"
      ]
    },
    {
      "cell_type": "code",
      "source": [
        "for index in range(len(t)) :\n",
        "  print(t[index], end = ' ')"
      ],
      "metadata": {
        "colab": {
          "base_uri": "https://localhost:8080/"
        },
        "id": "YUtVvEBAXnU-",
        "outputId": "964b2488-325d-4dc2-a392-ea2d072372d5"
      },
      "id": "YUtVvEBAXnU-",
      "execution_count": null,
      "outputs": [
        {
          "output_type": "stream",
          "name": "stdout",
          "text": [
            "1 2 3 "
          ]
        }
      ]
    },
    {
      "cell_type": "code",
      "source": [],
      "metadata": {
        "id": "Comrh3k-XtSX"
      },
      "id": "Comrh3k-XtSX",
      "execution_count": null,
      "outputs": []
    },
    {
      "cell_type": "code",
      "source": [
        "matrix = (\n",
        "  (1, 2, 3),\n",
        "  (4, 5, 6),\n",
        "  (7, 8, 9)\n",
        ")\n",
        "\n",
        "print(type(matrix))"
      ],
      "metadata": {
        "colab": {
          "base_uri": "https://localhost:8080/"
        },
        "id": "TAX6oU34XtZ6",
        "outputId": "5af3c97f-f5ee-4171-a50c-852932a04661"
      },
      "id": "TAX6oU34XtZ6",
      "execution_count": null,
      "outputs": [
        {
          "output_type": "stream",
          "name": "stdout",
          "text": [
            "<class 'tuple'>\n"
          ]
        }
      ]
    },
    {
      "cell_type": "code",
      "source": [],
      "metadata": {
        "id": "2XwHtveWYCTa"
      },
      "id": "2XwHtveWYCTa",
      "execution_count": null,
      "outputs": []
    },
    {
      "cell_type": "markdown",
      "id": "f6f1f47b-1cc4-4f9b-a8f2-85c9cf68ecaa",
      "metadata": {
        "id": "f6f1f47b-1cc4-4f9b-a8f2-85c9cf68ecaa"
      },
      "source": [
        "# Intro to 'Strings'\n",
        "- Inbuilt Functions:\n",
        "- len\n",
        "- capitalize\n",
        "- title\n",
        "- count\n",
        "- replace\n",
        "- split"
      ]
    },
    {
      "cell_type": "code",
      "execution_count": null,
      "id": "0468fa26-1caf-49c2-8c57-a3bcdd695ae3",
      "metadata": {
        "id": "0468fa26-1caf-49c2-8c57-a3bcdd695ae3"
      },
      "outputs": [],
      "source": [
        "# len -> Gives the length of the string"
      ]
    },
    {
      "cell_type": "code",
      "source": [
        "s = 'Aarnav Jindal'\n",
        "print(len(s))"
      ],
      "metadata": {
        "colab": {
          "base_uri": "https://localhost:8080/"
        },
        "id": "pszvjxsPfHBG",
        "outputId": "dfc6446f-1fad-40d5-8dde-9c72b8e083ad"
      },
      "id": "pszvjxsPfHBG",
      "execution_count": null,
      "outputs": [
        {
          "output_type": "stream",
          "name": "stdout",
          "text": [
            "13\n"
          ]
        }
      ]
    },
    {
      "cell_type": "code",
      "execution_count": null,
      "id": "224d80f7-10d6-499f-9a93-b48d03e3920c",
      "metadata": {
        "id": "224d80f7-10d6-499f-9a93-b48d03e3920c"
      },
      "outputs": [],
      "source": [
        "# quiz"
      ]
    },
    {
      "cell_type": "code",
      "execution_count": null,
      "id": "c8425069-9548-4b6b-be17-a03f61462313",
      "metadata": {
        "colab": {
          "base_uri": "https://localhost:8080/"
        },
        "id": "c8425069-9548-4b6b-be17-a03f61462313",
        "outputId": "199ac5f2-bfb2-4928-bc1e-e44b687b6a82"
      },
      "outputs": [
        {
          "output_type": "stream",
          "name": "stdout",
          "text": [
            "21\n"
          ]
        }
      ],
      "source": [
        "city = \"Phoenix\"\n",
        "# 'Hello' * 3 = 'HelloHelloHello'\n",
        "print(len(city*3))"
      ]
    },
    {
      "cell_type": "code",
      "source": [],
      "metadata": {
        "id": "UA4QPa5YfqYZ"
      },
      "id": "UA4QPa5YfqYZ",
      "execution_count": null,
      "outputs": []
    },
    {
      "cell_type": "code",
      "execution_count": null,
      "id": "926addca-4d69-45ae-a13d-98433c1a7dab",
      "metadata": {
        "id": "926addca-4d69-45ae-a13d-98433c1a7dab"
      },
      "outputs": [],
      "source": [
        "# capitalize -> converts first letter of all string to upper-case"
      ]
    },
    {
      "cell_type": "code",
      "execution_count": null,
      "id": "d9955b29-4cb6-4907-963d-ebca8a68c83c",
      "metadata": {
        "colab": {
          "base_uri": "https://localhost:8080/"
        },
        "id": "d9955b29-4cb6-4907-963d-ebca8a68c83c",
        "outputId": "e0c92695-7b34-455a-aed9-6acd737cd3a3"
      },
      "outputs": [
        {
          "output_type": "stream",
          "name": "stdout",
          "text": [
            "Aarnav jindal\n"
          ]
        }
      ],
      "source": [
        "s = 'aarnav jindal'\n",
        "print(s.capitalize())"
      ]
    },
    {
      "cell_type": "code",
      "execution_count": null,
      "id": "e3ec781f-9bef-45de-aadd-862808e7be6d",
      "metadata": {
        "id": "e3ec781f-9bef-45de-aadd-862808e7be6d"
      },
      "outputs": [],
      "source": []
    },
    {
      "cell_type": "code",
      "execution_count": null,
      "id": "20a710f7-a898-4344-ab07-0658253b00ef",
      "metadata": {
        "id": "20a710f7-a898-4344-ab07-0658253b00ef"
      },
      "outputs": [],
      "source": [
        "# title -> converts first letter of all words to upper-case"
      ]
    },
    {
      "cell_type": "code",
      "execution_count": null,
      "id": "11f98747-e0fe-42c5-8486-8bb5f6ec6a23",
      "metadata": {
        "colab": {
          "base_uri": "https://localhost:8080/"
        },
        "id": "11f98747-e0fe-42c5-8486-8bb5f6ec6a23",
        "outputId": "b1bacdfc-e879-411a-aa47-3539f03340e9"
      },
      "outputs": [
        {
          "output_type": "stream",
          "name": "stdout",
          "text": [
            "Aarnav Jindal\n"
          ]
        }
      ],
      "source": [
        "s = 'aarnav jindal'\n",
        "print(s.title())"
      ]
    },
    {
      "cell_type": "code",
      "source": [],
      "metadata": {
        "id": "sY_bkIFef7nf"
      },
      "id": "sY_bkIFef7nf",
      "execution_count": null,
      "outputs": []
    },
    {
      "cell_type": "code",
      "execution_count": null,
      "id": "672e7799-f617-4132-8c67-5d181d30706e",
      "metadata": {
        "id": "672e7799-f617-4132-8c67-5d181d30706e"
      },
      "outputs": [],
      "source": [
        "# count -> find count of any string in original string"
      ]
    },
    {
      "cell_type": "code",
      "source": [
        "s = 'aarnav jindal'\n",
        "\n",
        "print(s.count('a'))\n",
        "print(s.count('na'))"
      ],
      "metadata": {
        "colab": {
          "base_uri": "https://localhost:8080/"
        },
        "id": "jvB69DPBgM-a",
        "outputId": "d388b4bf-84c7-4db6-e01f-c0bb66d54a3d"
      },
      "id": "jvB69DPBgM-a",
      "execution_count": null,
      "outputs": [
        {
          "output_type": "stream",
          "name": "stdout",
          "text": [
            "4\n",
            "1\n"
          ]
        }
      ]
    },
    {
      "cell_type": "code",
      "execution_count": null,
      "id": "359ec2e7-a105-434b-beab-f20482d5adb0",
      "metadata": {
        "id": "359ec2e7-a105-434b-beab-f20482d5adb0"
      },
      "outputs": [],
      "source": [
        "# replace(old, new) -> replace old string with new string in original string"
      ]
    },
    {
      "cell_type": "code",
      "execution_count": null,
      "id": "05edf774-d2d4-4865-9261-7de0935fc1b1",
      "metadata": {
        "colab": {
          "base_uri": "https://localhost:8080/"
        },
        "id": "05edf774-d2d4-4865-9261-7de0935fc1b1",
        "outputId": "e3a3d494-28bd-4b89-a82f-4cb48ae05ced"
      },
      "outputs": [
        {
          "output_type": "stream",
          "name": "stdout",
          "text": [
            "Arnav jindal\n"
          ]
        }
      ],
      "source": [
        "s = 'aarnav jindal'\n",
        "print(s.replace('aa', 'A'))"
      ]
    },
    {
      "cell_type": "code",
      "source": [],
      "metadata": {
        "id": "FmeYlSFdghgf"
      },
      "id": "FmeYlSFdghgf",
      "execution_count": null,
      "outputs": []
    },
    {
      "cell_type": "code",
      "execution_count": null,
      "id": "e5a7f415-5a32-4b0e-93b7-a91b2023188b",
      "metadata": {
        "id": "e5a7f415-5a32-4b0e-93b7-a91b2023188b"
      },
      "outputs": [],
      "source": [
        "# split -> splits the string into a list about the separator"
      ]
    },
    {
      "cell_type": "code",
      "execution_count": null,
      "id": "30f81453-b154-4ee4-a759-625e61972895",
      "metadata": {
        "colab": {
          "base_uri": "https://localhost:8080/"
        },
        "id": "30f81453-b154-4ee4-a759-625e61972895",
        "outputId": "9b924cb0-29b6-4f90-d7df-c72c8ca25527"
      },
      "outputs": [
        {
          "output_type": "stream",
          "name": "stdout",
          "text": [
            "['Today', 'is', 'my', '25th', 'birthday', '!']\n",
            "['Tod', 'y is my 25th birthd', 'y !']\n"
          ]
        }
      ],
      "source": [
        "s = 'Today is my 25th birthday !'\n",
        "print(s.split())\n",
        "print(s.split('a'))"
      ]
    },
    {
      "cell_type": "code",
      "execution_count": null,
      "id": "767bef6d-e6d7-4693-a22c-509ced35ac9f",
      "metadata": {
        "id": "767bef6d-e6d7-4693-a22c-509ced35ac9f"
      },
      "outputs": [],
      "source": []
    },
    {
      "cell_type": "markdown",
      "id": "1c6c76cd-d4ed-40a3-9896-21b85e319fc4",
      "metadata": {
        "id": "1c6c76cd-d4ed-40a3-9896-21b85e319fc4"
      },
      "source": [
        "## Challenge 1:\n",
        "- Take a string as input and print all the characters in a newline.\n",
        "- Input: \"India\"\n",
        "- Output:\n",
        "- I\n",
        "- n\n",
        "- d\n",
        "- i\n",
        "- a"
      ]
    },
    {
      "cell_type": "code",
      "execution_count": null,
      "id": "9120db43-40b0-41e5-beea-a2c8271bf16b",
      "metadata": {
        "id": "9120db43-40b0-41e5-beea-a2c8271bf16b"
      },
      "outputs": [],
      "source": [
        "# Hint - String is iterable"
      ]
    },
    {
      "cell_type": "code",
      "execution_count": null,
      "id": "ca0528d7-40e6-4fda-a135-562f2f01c4d1",
      "metadata": {
        "colab": {
          "base_uri": "https://localhost:8080/"
        },
        "id": "ca0528d7-40e6-4fda-a135-562f2f01c4d1",
        "outputId": "760f3452-8c11-40c8-cb23-6001b675401d"
      },
      "outputs": [
        {
          "output_type": "stream",
          "name": "stdout",
          "text": [
            "India\n",
            "I\n",
            "n\n",
            "d\n",
            "i\n",
            "a\n"
          ]
        }
      ],
      "source": [
        "s = input()\n",
        "\n",
        "for char in s :\n",
        "  print(char)"
      ]
    },
    {
      "cell_type": "code",
      "execution_count": null,
      "id": "25836a98-0999-48fd-8941-2da6c038a761",
      "metadata": {
        "id": "25836a98-0999-48fd-8941-2da6c038a761"
      },
      "outputs": [],
      "source": []
    },
    {
      "cell_type": "markdown",
      "id": "f234bf7c-d257-419b-8c68-253528fc13d4",
      "metadata": {
        "id": "f234bf7c-d257-419b-8c68-253528fc13d4"
      },
      "source": [
        "## Challenge 2:\n",
        "- Given a string as input, print the first and the last character of the string.\n",
        "- Input: \"India\"\n",
        "- Output:\n",
        "- I\n",
        "- a"
      ]
    },
    {
      "cell_type": "code",
      "execution_count": null,
      "id": "12937d19-364c-4200-acc7-85056abf9060",
      "metadata": {
        "id": "12937d19-364c-4200-acc7-85056abf9060"
      },
      "outputs": [],
      "source": [
        "# Indexing"
      ]
    },
    {
      "cell_type": "code",
      "execution_count": null,
      "id": "e8b7afcb-a26f-468d-97a2-5ca4e18cacb2",
      "metadata": {
        "id": "e8b7afcb-a26f-468d-97a2-5ca4e18cacb2"
      },
      "outputs": [],
      "source": [
        "# s = 'India'\n",
        "# s[1] - > n\n",
        "# s[-2] -> i"
      ]
    },
    {
      "cell_type": "code",
      "execution_count": null,
      "id": "72bb3241-64f1-440d-8158-9f91b469dbc5",
      "metadata": {
        "colab": {
          "base_uri": "https://localhost:8080/"
        },
        "id": "72bb3241-64f1-440d-8158-9f91b469dbc5",
        "outputId": "d37559f3-0d90-4058-d31b-8ac63d3da3cf"
      },
      "outputs": [
        {
          "output_type": "stream",
          "name": "stdout",
          "text": [
            "India\n",
            "I\n",
            "a\n"
          ]
        }
      ],
      "source": [
        "s = input()\n",
        "print(s[0])\n",
        "print(s[-1])"
      ]
    },
    {
      "cell_type": "code",
      "execution_count": null,
      "id": "3c5cd741-26a1-4506-af23-73d8cd2239b6",
      "metadata": {
        "colab": {
          "base_uri": "https://localhost:8080/",
          "height": 186
        },
        "id": "3c5cd741-26a1-4506-af23-73d8cd2239b6",
        "outputId": "12129a2c-53ed-449c-987b-7089f006b474"
      },
      "outputs": [
        {
          "output_type": "error",
          "ename": "TypeError",
          "evalue": "ignored",
          "traceback": [
            "\u001b[0;31m---------------------------------------------------------------------------\u001b[0m",
            "\u001b[0;31mTypeError\u001b[0m                                 Traceback (most recent call last)",
            "\u001b[0;32m<ipython-input-37-1a66a245ec01>\u001b[0m in \u001b[0;36m<cell line: 2>\u001b[0;34m()\u001b[0m\n\u001b[1;32m      1\u001b[0m \u001b[0;31m# Strings are immutable\u001b[0m\u001b[0;34m\u001b[0m\u001b[0;34m\u001b[0m\u001b[0m\n\u001b[0;32m----> 2\u001b[0;31m \u001b[0ms\u001b[0m\u001b[0;34m[\u001b[0m\u001b[0;36m0\u001b[0m\u001b[0;34m]\u001b[0m \u001b[0;34m=\u001b[0m \u001b[0;34m'i'\u001b[0m\u001b[0;34m\u001b[0m\u001b[0;34m\u001b[0m\u001b[0m\n\u001b[0m",
            "\u001b[0;31mTypeError\u001b[0m: 'str' object does not support item assignment"
          ]
        }
      ],
      "source": [
        "# Strings are immutable\n",
        "s[0] = 'i'"
      ]
    },
    {
      "cell_type": "code",
      "execution_count": null,
      "id": "75dd5b84-cafa-4d46-935d-42e6e697f8f6",
      "metadata": {
        "id": "75dd5b84-cafa-4d46-935d-42e6e697f8f6"
      },
      "outputs": [],
      "source": []
    },
    {
      "cell_type": "code",
      "execution_count": null,
      "id": "0a692326-8f9c-49df-8d77-fc4fcd8385f0",
      "metadata": {
        "id": "0a692326-8f9c-49df-8d77-fc4fcd8385f0"
      },
      "outputs": [],
      "source": [
        "## Palindrome -> A string which reads the same from front and back\n",
        "\n",
        "# India\n",
        "# Reverse(India) -> aidnI\n",
        "# India != aidnI\n",
        "# India is not a palindrom\n",
        "\n",
        "# level\n",
        "# reverse(level) -> level\n",
        "# level == level\n",
        "# level is a palindrome\n",
        "\n",
        "# Level is not a palindrome\n",
        "# leveL\n",
        "# Level != leveL\n",
        "# Not a palindrome"
      ]
    },
    {
      "cell_type": "code",
      "execution_count": null,
      "id": "09b19334-b586-4165-9110-e29808a48c7d",
      "metadata": {
        "id": "09b19334-b586-4165-9110-e29808a48c7d"
      },
      "outputs": [],
      "source": [
        "# Quiz"
      ]
    },
    {
      "cell_type": "code",
      "execution_count": null,
      "id": "7345865b-3c17-49d7-b131-4273ba8de5b7",
      "metadata": {
        "id": "7345865b-3c17-49d7-b131-4273ba8de5b7"
      },
      "outputs": [],
      "source": [
        "# Which one of the following is a palindrome?\n",
        "# a) radar\n",
        "# b) level\n",
        "# c) rahul\n",
        "\n",
        "# ans -> Both a and b"
      ]
    },
    {
      "cell_type": "code",
      "execution_count": null,
      "id": "0c03125f-0c3f-4665-bb29-127dfd53dcdc",
      "metadata": {
        "id": "0c03125f-0c3f-4665-bb29-127dfd53dcdc"
      },
      "outputs": [],
      "source": [
        "# Take a string as input and print whether its a palindrome"
      ]
    },
    {
      "cell_type": "code",
      "execution_count": null,
      "id": "b3ec70bc-b740-480e-99cf-f5196870c9b6",
      "metadata": {
        "colab": {
          "base_uri": "https://localhost:8080/"
        },
        "id": "b3ec70bc-b740-480e-99cf-f5196870c9b6",
        "outputId": "fd0808a8-aafd-49dd-aa89-d4875790bb21"
      },
      "outputs": [
        {
          "output_type": "stream",
          "name": "stdout",
          "text": [
            "rahul\n",
            "Not palindrome\n"
          ]
        }
      ],
      "source": [
        "s = input()\n",
        "\n",
        "r = s[::-1]\n",
        "\n",
        "if s == r :\n",
        "  print(\"Palindrome\")\n",
        "else :\n",
        "  print(\"Not palindrome\")"
      ]
    },
    {
      "cell_type": "code",
      "execution_count": null,
      "id": "072f6cc8-c176-43dd-a6fe-d77b319d01a5",
      "metadata": {
        "id": "072f6cc8-c176-43dd-a6fe-d77b319d01a5"
      },
      "outputs": [],
      "source": []
    },
    {
      "cell_type": "markdown",
      "id": "ffd58c9c-d32e-4906-83d1-deaed69efa2a",
      "metadata": {
        "id": "ffd58c9c-d32e-4906-83d1-deaed69efa2a"
      },
      "source": [
        "## Challenge 3:\n",
        "- Take a string as input and print the ASCII value of the characters in it."
      ]
    },
    {
      "cell_type": "code",
      "execution_count": null,
      "id": "88b8495e-6e8f-40f8-9153-72bfb1f5397d",
      "metadata": {
        "id": "88b8495e-6e8f-40f8-9153-72bfb1f5397d"
      },
      "outputs": [],
      "source": [
        "s = 'India'\n",
        "# Output\n",
        "# 73\n",
        "# 110\n",
        "# 100\n",
        "# 105\n",
        "# 97"
      ]
    },
    {
      "cell_type": "code",
      "execution_count": null,
      "id": "7a4145b7-015a-423a-a520-842e5e50c9f8",
      "metadata": {
        "colab": {
          "base_uri": "https://localhost:8080/"
        },
        "id": "7a4145b7-015a-423a-a520-842e5e50c9f8",
        "outputId": "46287f7e-9b93-4a67-fd48-e7ac34ec5469"
      },
      "outputs": [
        {
          "output_type": "stream",
          "name": "stdout",
          "text": [
            "India\n",
            "73\n",
            "110\n",
            "100\n",
            "105\n",
            "97\n"
          ]
        }
      ],
      "source": [
        "s = input()\n",
        "\n",
        "for c in s :\n",
        "  print(ord(c))"
      ]
    },
    {
      "cell_type": "code",
      "execution_count": null,
      "id": "3c857273-6a1f-4b96-a41a-d82571b02e4f",
      "metadata": {
        "id": "3c857273-6a1f-4b96-a41a-d82571b02e4f"
      },
      "outputs": [],
      "source": []
    },
    {
      "cell_type": "code",
      "source": [
        "# Doubts"
      ],
      "metadata": {
        "id": "87M_zuVToxPc"
      },
      "id": "87M_zuVToxPc",
      "execution_count": null,
      "outputs": []
    },
    {
      "cell_type": "code",
      "source": [
        "# 1st part -> Transposing non square matrix\n",
        "\n",
        "matrix = [\n",
        "  [1, 2],\n",
        "  [3, 4],\n",
        "  [5, 6]\n",
        "]\n",
        "\n",
        "# [\n",
        "#   [1, 3, 5],\n",
        "#   [2, 4, 6]\n",
        "# ]"
      ],
      "metadata": {
        "id": "Zs5RR6n0nS04"
      },
      "id": "Zs5RR6n0nS04",
      "execution_count": null,
      "outputs": []
    },
    {
      "cell_type": "code",
      "source": [
        "# 2nd part -> How to iterate over column"
      ],
      "metadata": {
        "id": "u4fVdxQ4nS3N"
      },
      "id": "u4fVdxQ4nS3N",
      "execution_count": null,
      "outputs": []
    },
    {
      "cell_type": "code",
      "source": [
        "for col in range(len(matrix[0])) :\n",
        "  for row in range(len(matrix)) :\n",
        "    print(matrix[row][col], end=' ')\n",
        "  print()\n",
        "\n",
        "# len(matrix) -> Gives number of rows\n",
        "# len(matrix[0]) -> Gives number of cols"
      ],
      "metadata": {
        "colab": {
          "base_uri": "https://localhost:8080/"
        },
        "id": "3PsN0SSznS4x",
        "outputId": "b4f455ed-c4f3-456a-8165-4cd405b0894b"
      },
      "id": "3PsN0SSznS4x",
      "execution_count": null,
      "outputs": [
        {
          "output_type": "stream",
          "name": "stdout",
          "text": [
            "1 3 5 \n",
            "2 4 6 \n"
          ]
        }
      ]
    },
    {
      "cell_type": "code",
      "source": [
        "# Pattern\n",
        "# Even number colums - 0, 2, ...\n",
        "# Print top-down\n",
        "# Odd number columns - 1, 3, ...\n",
        "# Print bottom-up\n",
        "\n",
        "\n",
        "for col in range(len(matrix[0])) :\n",
        "  if col % 2 == 0 :\n",
        "    # Write logic to print top-down\n",
        "    pass\n",
        "  else :\n",
        "    # Write logic to print bottom-up\n",
        "    pass"
      ],
      "metadata": {
        "id": "sr9uExlPozJU"
      },
      "id": "sr9uExlPozJU",
      "execution_count": null,
      "outputs": []
    }
  ],
  "metadata": {
    "kernelspec": {
      "display_name": "Python 3 (ipykernel)",
      "language": "python",
      "name": "python3"
    },
    "language_info": {
      "codemirror_mode": {
        "name": "ipython",
        "version": 3
      },
      "file_extension": ".py",
      "mimetype": "text/x-python",
      "name": "python",
      "nbconvert_exporter": "python",
      "pygments_lexer": "ipython3",
      "version": "3.9.7"
    },
    "colab": {
      "provenance": [],
      "include_colab_link": true
    }
  },
  "nbformat": 4,
  "nbformat_minor": 5
}