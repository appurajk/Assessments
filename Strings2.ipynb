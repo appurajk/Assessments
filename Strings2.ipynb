{
  "cells": [
    {
      "cell_type": "markdown",
      "metadata": {
        "id": "view-in-github",
        "colab_type": "text"
      },
      "source": [
        "<a href=\"https://colab.research.google.com/github/appurajk/Assessments/blob/main/Strings2.ipynb\" target=\"_parent\"><img src=\"https://colab.research.google.com/assets/colab-badge.svg\" alt=\"Open In Colab\"/></a>"
      ]
    },
    {
      "cell_type": "markdown",
      "id": "fa730330-e254-4d45-9ae5-55776184ef00",
      "metadata": {
        "id": "fa730330-e254-4d45-9ae5-55776184ef00"
      },
      "source": [
        "# Challenge\n",
        "- Given a string as input, print it 3 times without any space. (can't use a loop)\n",
        "- Input: \"India\"\n",
        "- Ouput: \"IndiaIndiaIndia\""
      ]
    },
    {
      "cell_type": "code",
      "execution_count": null,
      "id": "e6907ac6-8a36-4fd5-87c7-da3575f87c5e",
      "metadata": {
        "id": "e6907ac6-8a36-4fd5-87c7-da3575f87c5e"
      },
      "outputs": [],
      "source": [
        "# Quiz"
      ]
    },
    {
      "cell_type": "code",
      "execution_count": null,
      "id": "74bb99fb-1e2a-4fab-90f3-daf499a4ab49",
      "metadata": {
        "colab": {
          "base_uri": "https://localhost:8080/"
        },
        "id": "74bb99fb-1e2a-4fab-90f3-daf499a4ab49",
        "outputId": "b1a2da29-64d2-4b3f-ce3c-564ca71c5e53"
      },
      "outputs": [
        {
          "output_type": "stream",
          "name": "stdout",
          "text": [
            "IndiaIndiaIndia\n"
          ]
        }
      ],
      "source": [
        "print( \"India\" * 3 )"
      ]
    },
    {
      "cell_type": "code",
      "execution_count": null,
      "id": "1bef23a9-0ce1-4652-9cf6-3d3745da9b2c",
      "metadata": {
        "id": "1bef23a9-0ce1-4652-9cf6-3d3745da9b2c"
      },
      "outputs": [],
      "source": [
        "# String concatenation"
      ]
    },
    {
      "cell_type": "code",
      "execution_count": null,
      "id": "7d86b2f1-5a34-4403-bd75-e66c3dd0d83e",
      "metadata": {
        "id": "7d86b2f1-5a34-4403-bd75-e66c3dd0d83e"
      },
      "outputs": [],
      "source": [
        "# +, *"
      ]
    },
    {
      "cell_type": "code",
      "execution_count": null,
      "id": "51bde1ec-e69a-45f2-9556-54831888e1e7",
      "metadata": {
        "colab": {
          "base_uri": "https://localhost:8080/"
        },
        "id": "51bde1ec-e69a-45f2-9556-54831888e1e7",
        "outputId": "ba335fa1-27ae-4a9b-c92e-57615c472ad8"
      },
      "outputs": [
        {
          "output_type": "stream",
          "name": "stdout",
          "text": [
            "IndiaIndiaIndia\n"
          ]
        }
      ],
      "source": [
        "print( \"India\" + \"India\" + \"India\" )"
      ]
    },
    {
      "cell_type": "code",
      "execution_count": null,
      "id": "3c88d6fe-6f7e-4c8b-8136-eb8ea76f7c5d",
      "metadata": {
        "id": "3c88d6fe-6f7e-4c8b-8136-eb8ea76f7c5d"
      },
      "outputs": [],
      "source": []
    },
    {
      "cell_type": "code",
      "execution_count": null,
      "id": "8b244bb3-352c-4da4-8d42-5302f8759545",
      "metadata": {
        "id": "8b244bb3-352c-4da4-8d42-5302f8759545"
      },
      "outputs": [],
      "source": []
    },
    {
      "cell_type": "code",
      "execution_count": null,
      "id": "609ab46f-9f64-4951-89cf-69904480719e",
      "metadata": {
        "id": "609ab46f-9f64-4951-89cf-69904480719e"
      },
      "outputs": [],
      "source": []
    },
    {
      "cell_type": "code",
      "execution_count": null,
      "id": "02e4f592-2a7a-4098-bb5f-f117478d40da",
      "metadata": {
        "id": "02e4f592-2a7a-4098-bb5f-f117478d40da"
      },
      "outputs": [],
      "source": [
        "# The sigma way to print the pattern:\n",
        "\n",
        "# # # # #\n",
        "# # # # #\n",
        "# # # # #\n",
        "# # # # #\n",
        "# # # # #"
      ]
    },
    {
      "cell_type": "code",
      "execution_count": null,
      "id": "bf7d1931-0d43-4db5-82ae-74a4867ad506",
      "metadata": {
        "id": "bf7d1931-0d43-4db5-82ae-74a4867ad506"
      },
      "outputs": [],
      "source": [
        "# Quiz"
      ]
    },
    {
      "cell_type": "code",
      "source": [
        "n = 5\n",
        "\n",
        "for i in range(n) :\n",
        "  for j in range(n) :\n",
        "    print('#', end=' ')\n",
        "  print()"
      ],
      "metadata": {
        "colab": {
          "base_uri": "https://localhost:8080/"
        },
        "id": "LnVcgQDgg98d",
        "outputId": "62677d52-35da-4586-805c-9da0bf40beae"
      },
      "id": "LnVcgQDgg98d",
      "execution_count": null,
      "outputs": [
        {
          "output_type": "stream",
          "name": "stdout",
          "text": [
            "# # # # # \n",
            "# # # # # \n",
            "# # # # # \n",
            "# # # # # \n",
            "# # # # # \n"
          ]
        }
      ]
    },
    {
      "cell_type": "code",
      "execution_count": null,
      "id": "a67f30a8-6b2a-47d3-9b97-0b0c65fcb65a",
      "metadata": {
        "colab": {
          "base_uri": "https://localhost:8080/"
        },
        "id": "a67f30a8-6b2a-47d3-9b97-0b0c65fcb65a",
        "outputId": "009e7db5-77d8-4f6d-9aba-3d6f0f1b365a"
      },
      "outputs": [
        {
          "output_type": "stream",
          "name": "stdout",
          "text": [
            "# # # # # \n",
            "---------\n",
            "# # # # # \n"
          ]
        }
      ],
      "source": [
        "for j in range(n) :\n",
        "    print('#', end=' ')\n",
        "\n",
        "print('\\n---------')\n",
        "\n",
        "print('# ' * n)"
      ]
    },
    {
      "cell_type": "code",
      "execution_count": null,
      "id": "388695c9-b4d9-4c5c-b5d8-b0a55d8cbdc8",
      "metadata": {
        "colab": {
          "base_uri": "https://localhost:8080/"
        },
        "id": "388695c9-b4d9-4c5c-b5d8-b0a55d8cbdc8",
        "outputId": "b1bbd588-73bc-43a5-9816-a618609ebe62"
      },
      "outputs": [
        {
          "output_type": "stream",
          "name": "stdout",
          "text": [
            "# # # # # \n",
            "# # # # # \n",
            "# # # # # \n",
            "# # # # # \n",
            "# # # # # \n"
          ]
        }
      ],
      "source": [
        "for row in range(n) :\n",
        "  print('# ' * n)"
      ]
    },
    {
      "cell_type": "code",
      "execution_count": null,
      "id": "31ee24ea-fbf6-4aeb-b5bb-a0ded2229625",
      "metadata": {
        "id": "31ee24ea-fbf6-4aeb-b5bb-a0ded2229625"
      },
      "outputs": [],
      "source": [
        "# Print this pattern\n",
        "# N = 4\n",
        "\n",
        "#\n",
        "# #\n",
        "# # #\n",
        "# # # #"
      ]
    },
    {
      "cell_type": "code",
      "execution_count": null,
      "id": "edccf9bc-4663-4a8a-b4a2-076ef95c39ea",
      "metadata": {
        "colab": {
          "base_uri": "https://localhost:8080/"
        },
        "id": "edccf9bc-4663-4a8a-b4a2-076ef95c39ea",
        "outputId": "9bdc2741-b789-4d5f-b0c9-98d604d24c5d"
      },
      "outputs": [
        {
          "output_type": "stream",
          "name": "stdout",
          "text": [
            "# \n",
            "# # \n",
            "# # # \n",
            "# # # # \n",
            "# # # # # \n"
          ]
        }
      ],
      "source": [
        "for row in range(n) :\n",
        "  print('# ' * (row+1))"
      ]
    },
    {
      "cell_type": "code",
      "source": [
        "# Print this pattern\n",
        "# N = 4\n",
        "\n",
        "# # # #\n",
        "# # #\n",
        "# #\n",
        "#"
      ],
      "metadata": {
        "id": "Bw-IAB1NjB80"
      },
      "id": "Bw-IAB1NjB80",
      "execution_count": null,
      "outputs": []
    },
    {
      "cell_type": "code",
      "source": [
        "for row in range(n) :\n",
        "  print('# ' * (n-row))"
      ],
      "metadata": {
        "colab": {
          "base_uri": "https://localhost:8080/"
        },
        "id": "3l3gjtWojM8L",
        "outputId": "1d0cf14f-7133-446f-b3ab-695c0ece3290"
      },
      "id": "3l3gjtWojM8L",
      "execution_count": null,
      "outputs": [
        {
          "output_type": "stream",
          "name": "stdout",
          "text": [
            "# # # # # \n",
            "# # # # \n",
            "# # # \n",
            "# # \n",
            "# \n"
          ]
        }
      ]
    },
    {
      "cell_type": "code",
      "source": [
        "for row in range(n, 0, -1) :\n",
        "  print('# ' * row)"
      ],
      "metadata": {
        "colab": {
          "base_uri": "https://localhost:8080/"
        },
        "id": "RXq19yuZjtHX",
        "outputId": "1c542fa7-6ca4-4786-f6ff-5aada1a4187f"
      },
      "id": "RXq19yuZjtHX",
      "execution_count": null,
      "outputs": [
        {
          "output_type": "stream",
          "name": "stdout",
          "text": [
            "# # # # # \n",
            "# # # # \n",
            "# # # \n",
            "# # \n",
            "# \n"
          ]
        }
      ]
    },
    {
      "cell_type": "markdown",
      "id": "5a627a9c-32e1-43ec-8497-9dc13611a8d0",
      "metadata": {
        "id": "5a627a9c-32e1-43ec-8497-9dc13611a8d0"
      },
      "source": [
        "# Formatted strings"
      ]
    },
    {
      "cell_type": "code",
      "execution_count": null,
      "id": "a23641c0-d27e-474d-9b13-25fdb5d3a3ed",
      "metadata": {
        "id": "a23641c0-d27e-474d-9b13-25fdb5d3a3ed"
      },
      "outputs": [],
      "source": [
        "name = \"Emma Watson\"\n",
        "age = 32"
      ]
    },
    {
      "cell_type": "code",
      "execution_count": null,
      "id": "24140059-6a4b-4259-bc1c-6fe99fa61f22",
      "metadata": {
        "colab": {
          "base_uri": "https://localhost:8080/"
        },
        "id": "24140059-6a4b-4259-bc1c-6fe99fa61f22",
        "outputId": "5225ef06-e616-4131-90de-c02f51b2ec39"
      },
      "outputs": [
        {
          "output_type": "stream",
          "name": "stdout",
          "text": [
            "Hey my name is Emma Watson, and age is 32.\n"
          ]
        }
      ],
      "source": [
        "print(\"Hey my name is \", name, \", and age is \", age, \".\", sep=\"\")"
      ]
    },
    {
      "cell_type": "code",
      "execution_count": null,
      "id": "0212ceee-4146-4553-a4f2-ea5a922d2579",
      "metadata": {
        "id": "0212ceee-4146-4553-a4f2-ea5a922d2579"
      },
      "outputs": [],
      "source": [
        "# 1st method"
      ]
    },
    {
      "cell_type": "code",
      "execution_count": null,
      "id": "ce7a7c71-c018-4c20-965b-acbb7bc542c5",
      "metadata": {
        "id": "ce7a7c71-c018-4c20-965b-acbb7bc542c5"
      },
      "outputs": [],
      "source": [
        "# format"
      ]
    },
    {
      "cell_type": "code",
      "execution_count": null,
      "id": "9fb5c7ff-6fa8-4cb8-b905-2980c6c7deaf",
      "metadata": {
        "colab": {
          "base_uri": "https://localhost:8080/"
        },
        "id": "9fb5c7ff-6fa8-4cb8-b905-2980c6c7deaf",
        "outputId": "4efddf34-9d25-4f6d-f50d-5ef6bed702f7"
      },
      "outputs": [
        {
          "output_type": "stream",
          "name": "stdout",
          "text": [
            "Hey my name is Emma Watson, and age is 32.\n"
          ]
        }
      ],
      "source": [
        "print(\"Hey my name is {}, and age is {}.\".format(name, age))"
      ]
    },
    {
      "cell_type": "code",
      "execution_count": null,
      "id": "6e136c6e-3fc8-4a93-822b-972a970d3afb",
      "metadata": {
        "colab": {
          "base_uri": "https://localhost:8080/",
          "height": 166
        },
        "id": "6e136c6e-3fc8-4a93-822b-972a970d3afb",
        "outputId": "447ebb3d-da73-4047-e04e-fcac0b977036"
      },
      "outputs": [
        {
          "output_type": "error",
          "ename": "IndexError",
          "evalue": "ignored",
          "traceback": [
            "\u001b[0;31m---------------------------------------------------------------------------\u001b[0m",
            "\u001b[0;31mIndexError\u001b[0m                                Traceback (most recent call last)",
            "\u001b[0;32m<ipython-input-17-ff310525cc72>\u001b[0m in \u001b[0;36m<cell line: 1>\u001b[0;34m()\u001b[0m\n\u001b[0;32m----> 1\u001b[0;31m \u001b[0mprint\u001b[0m\u001b[0;34m(\u001b[0m\u001b[0;34m\"Hey my name is {}, and age is {}.\"\u001b[0m\u001b[0;34m.\u001b[0m\u001b[0mformat\u001b[0m\u001b[0;34m(\u001b[0m\u001b[0mage\u001b[0m\u001b[0;34m)\u001b[0m\u001b[0;34m)\u001b[0m\u001b[0;34m\u001b[0m\u001b[0;34m\u001b[0m\u001b[0m\n\u001b[0m",
            "\u001b[0;31mIndexError\u001b[0m: Replacement index 1 out of range for positional args tuple"
          ]
        }
      ],
      "source": [
        "print(\"Hey my name is {}, and age is {}.\".format(age))"
      ]
    },
    {
      "cell_type": "code",
      "source": [],
      "metadata": {
        "id": "vek0QfjBkh7y"
      },
      "id": "vek0QfjBkh7y",
      "execution_count": null,
      "outputs": []
    },
    {
      "cell_type": "code",
      "execution_count": null,
      "id": "47a35d65-e5d0-4370-8cd9-ee7117518df1",
      "metadata": {
        "id": "47a35d65-e5d0-4370-8cd9-ee7117518df1"
      },
      "outputs": [],
      "source": [
        "# latest way of writing formatted strings\n",
        "# Following is aplicable in python 3.6 and above"
      ]
    },
    {
      "cell_type": "code",
      "execution_count": null,
      "id": "ee7af95f-9773-40d0-94b9-3195aee44a62",
      "metadata": {
        "id": "ee7af95f-9773-40d0-94b9-3195aee44a62"
      },
      "outputs": [],
      "source": [
        "# 2nd Method"
      ]
    },
    {
      "cell_type": "code",
      "execution_count": null,
      "id": "bab29ab7-7480-464b-bebb-5cda8733b8e8",
      "metadata": {
        "id": "bab29ab7-7480-464b-bebb-5cda8733b8e8"
      },
      "outputs": [],
      "source": [
        "# F - String"
      ]
    },
    {
      "cell_type": "code",
      "execution_count": null,
      "id": "c7014432-a939-42b2-9cd2-907f7b8e305d",
      "metadata": {
        "colab": {
          "base_uri": "https://localhost:8080/"
        },
        "id": "c7014432-a939-42b2-9cd2-907f7b8e305d",
        "outputId": "9399a9d0-7b3e-4247-f52e-003f9f144fa5"
      },
      "outputs": [
        {
          "output_type": "stream",
          "name": "stdout",
          "text": [
            "My name is Emma Watson, and my age is 32\n"
          ]
        }
      ],
      "source": [
        "print(f\"My name is {name}, and my age is {age}\")"
      ]
    },
    {
      "cell_type": "code",
      "execution_count": null,
      "id": "b99c6ceb-d42d-4eb5-8743-baf496ba1888",
      "metadata": {
        "id": "b99c6ceb-d42d-4eb5-8743-baf496ba1888"
      },
      "outputs": [],
      "source": []
    },
    {
      "cell_type": "code",
      "execution_count": null,
      "id": "10abf079-935e-4248-9df4-a42cae89cd3c",
      "metadata": {
        "id": "10abf079-935e-4248-9df4-a42cae89cd3c"
      },
      "outputs": [],
      "source": []
    },
    {
      "cell_type": "markdown",
      "id": "19e9a29d-03ea-4aa3-955f-daa6d24f0c53",
      "metadata": {
        "id": "19e9a29d-03ea-4aa3-955f-daa6d24f0c53"
      },
      "source": [
        "## Challenge:\n",
        "- Given a string as input, count the no of upper case characters"
      ]
    },
    {
      "cell_type": "code",
      "execution_count": null,
      "id": "eafa4a2e-353f-403c-8d70-489d5d26d12a",
      "metadata": {
        "id": "eafa4a2e-353f-403c-8d70-489d5d26d12a"
      },
      "outputs": [],
      "source": [
        "s = \"Aarnav Jindal\"\n",
        "# What is the answer ?\n",
        "\n",
        "# Hint: 'A' -> 65 and 'Z' -> 90"
      ]
    },
    {
      "cell_type": "code",
      "source": [
        "cnt = 0\n",
        "\n",
        "for ch in s :\n",
        "  ascii = ord(ch)\n",
        "  if 65 <= ascii <= 90 :\n",
        "    cnt += 1\n",
        "\n",
        "print(f\"Upper case characters in {s} are {cnt}\")"
      ],
      "metadata": {
        "colab": {
          "base_uri": "https://localhost:8080/"
        },
        "id": "Y2YtYwqbfFqq",
        "outputId": "242e2267-3def-459e-9004-1e537361ca9c"
      },
      "id": "Y2YtYwqbfFqq",
      "execution_count": null,
      "outputs": [
        {
          "output_type": "stream",
          "name": "stdout",
          "text": [
            "Upper case characters in Aarnav Jindal are 2\n"
          ]
        }
      ]
    },
    {
      "cell_type": "code",
      "source": [
        "# isupper -> Tells whether character is upper case\n",
        "print('a'.isupper())\n",
        "print('A'.isupper())"
      ],
      "metadata": {
        "colab": {
          "base_uri": "https://localhost:8080/"
        },
        "id": "T8NQguRmfFsA",
        "outputId": "545581a4-ac6e-4ae5-8383-28a495151c5e"
      },
      "id": "T8NQguRmfFsA",
      "execution_count": null,
      "outputs": [
        {
          "output_type": "stream",
          "name": "stdout",
          "text": [
            "False\n",
            "True\n"
          ]
        }
      ]
    },
    {
      "cell_type": "code",
      "execution_count": null,
      "id": "1bdd68c1-cfc0-4ae1-9127-a64c99cf30b8",
      "metadata": {
        "colab": {
          "base_uri": "https://localhost:8080/"
        },
        "id": "1bdd68c1-cfc0-4ae1-9127-a64c99cf30b8",
        "outputId": "f9d73c8d-1ca3-40ae-8bf3-8d2a995c4b11"
      },
      "outputs": [
        {
          "output_type": "stream",
          "name": "stdout",
          "text": [
            "2\n"
          ]
        }
      ],
      "source": [
        "cnt = 0\n",
        "\n",
        "for ch in s :\n",
        "  if ch.isupper() :\n",
        "    cnt += 1\n",
        "print(cnt)"
      ]
    },
    {
      "cell_type": "code",
      "source": [],
      "metadata": {
        "id": "EwwWk7m6nyMB"
      },
      "id": "EwwWk7m6nyMB",
      "execution_count": null,
      "outputs": []
    },
    {
      "cell_type": "markdown",
      "id": "57cc99f7-1a3a-4974-825f-5f57e8037341",
      "metadata": {
        "id": "57cc99f7-1a3a-4974-825f-5f57e8037341"
      },
      "source": [
        "## Challenge:\n",
        "- Convert the string to lower case.\n",
        "- Input: \"INdiA\" Output: \"india\""
      ]
    },
    {
      "cell_type": "code",
      "execution_count": null,
      "id": "23667672-c52e-4823-b49a-f303145ce891",
      "metadata": {
        "id": "23667672-c52e-4823-b49a-f303145ce891"
      },
      "outputs": [],
      "source": [
        "# Hint: 'a' -> 97, 'z' -> 122"
      ]
    },
    {
      "cell_type": "code",
      "execution_count": null,
      "id": "19d6c8ea-bd71-415f-af5d-e26144998c29",
      "metadata": {
        "id": "19d6c8ea-bd71-415f-af5d-e26144998c29"
      },
      "outputs": [],
      "source": [
        "# 'A' -> 65\n",
        "# 'a' -> 97\n",
        "# Add 32 to upper-case ASCII to get lower-case character"
      ]
    },
    {
      "cell_type": "code",
      "execution_count": null,
      "id": "19e9f9ef-8d69-4b77-b3f1-9875ee58dfcb",
      "metadata": {
        "colab": {
          "base_uri": "https://localhost:8080/"
        },
        "id": "19e9f9ef-8d69-4b77-b3f1-9875ee58dfcb",
        "outputId": "1b69c695-34d1-46d9-a8f7-db15acb13123"
      },
      "outputs": [
        {
          "output_type": "stream",
          "name": "stdout",
          "text": [
            "india\n"
          ]
        }
      ],
      "source": [
        "s = \"INdiA\"\n",
        "\n",
        "ans = \"\"\n",
        "for ch in s :\n",
        "  if ch.isupper() :\n",
        "    ascii = ord(ch)\n",
        "    new_ch = chr(ascii + 32)\n",
        "    ans = ans + new_ch\n",
        "  else :\n",
        "    ans = ans + ch\n",
        "\n",
        "print(ans)"
      ]
    },
    {
      "cell_type": "code",
      "execution_count": null,
      "id": "b73da023-9c81-4032-8be1-9700a55ac7ce",
      "metadata": {
        "colab": {
          "base_uri": "https://localhost:8080/"
        },
        "id": "b73da023-9c81-4032-8be1-9700a55ac7ce",
        "outputId": "1e3fdea2-1d5f-4a73-835f-14602e18c6fd"
      },
      "outputs": [
        {
          "output_type": "stream",
          "name": "stdout",
          "text": [
            "india\n"
          ]
        }
      ],
      "source": [
        "print(s.lower())"
      ]
    },
    {
      "cell_type": "code",
      "source": [
        "# isupper(), islower()\n",
        "# upper(), lower()"
      ],
      "metadata": {
        "id": "gBWw4tu1qAgZ"
      },
      "id": "gBWw4tu1qAgZ",
      "execution_count": null,
      "outputs": []
    },
    {
      "cell_type": "code",
      "source": [
        "# Break - 10pm"
      ],
      "metadata": {
        "id": "ImQP9manqVX_"
      },
      "id": "ImQP9manqVX_",
      "execution_count": null,
      "outputs": []
    },
    {
      "cell_type": "markdown",
      "id": "1f355c66-3aec-47fb-ad3a-5c34b130a4e8",
      "metadata": {
        "id": "1f355c66-3aec-47fb-ad3a-5c34b130a4e8"
      },
      "source": [
        "# In operator in Strings"
      ]
    },
    {
      "cell_type": "code",
      "execution_count": null,
      "id": "d022b13f-2558-40d8-937f-cc5fead53074",
      "metadata": {
        "colab": {
          "base_uri": "https://localhost:8080/"
        },
        "id": "d022b13f-2558-40d8-937f-cc5fead53074",
        "outputId": "0f40e4b0-4e97-4152-8cee-010894fcc2c3"
      },
      "outputs": [
        {
          "output_type": "stream",
          "name": "stdout",
          "text": [
            "True\n",
            "True\n",
            "False\n"
          ]
        }
      ],
      "source": [
        "s = \"Aarnav Jindal\"\n",
        "\n",
        "print(\"a\" in s)\n",
        "print(\"in\" in s)\n",
        "print(\"ji\" in s)"
      ]
    },
    {
      "cell_type": "code",
      "source": [],
      "metadata": {
        "id": "LxX12xiVfPdQ"
      },
      "id": "LxX12xiVfPdQ",
      "execution_count": null,
      "outputs": []
    },
    {
      "cell_type": "markdown",
      "id": "50e394aa-c799-41b9-8080-5b6b573b8e7b",
      "metadata": {
        "id": "50e394aa-c799-41b9-8080-5b6b573b8e7b"
      },
      "source": [
        "#### Join and Split"
      ]
    },
    {
      "cell_type": "code",
      "execution_count": null,
      "id": "a2dc8c93-b2ba-4741-a97c-0650e09811bd",
      "metadata": {
        "id": "a2dc8c93-b2ba-4741-a97c-0650e09811bd"
      },
      "outputs": [],
      "source": [
        "# quiz"
      ]
    },
    {
      "cell_type": "code",
      "execution_count": null,
      "id": "507a1917-4751-4334-bf60-eadcece07f42",
      "metadata": {
        "id": "507a1917-4751-4334-bf60-eadcece07f42"
      },
      "outputs": [],
      "source": [
        "# split function"
      ]
    },
    {
      "cell_type": "code",
      "source": [
        "s = \"1 2 3 4\"\n",
        "print(s.split())"
      ],
      "metadata": {
        "colab": {
          "base_uri": "https://localhost:8080/"
        },
        "id": "3_uwqLwgfWAO",
        "outputId": "bf16dc45-9d40-4c25-fe15-38f7d5b06ef1"
      },
      "id": "3_uwqLwgfWAO",
      "execution_count": null,
      "outputs": [
        {
          "output_type": "stream",
          "name": "stdout",
          "text": [
            "['1', '2', '3', '4']\n"
          ]
        }
      ]
    },
    {
      "cell_type": "code",
      "source": [
        "s = \"I am doing great!\"\n",
        "print(s.split())\n",
        "print(s.split(\"a\"))"
      ],
      "metadata": {
        "colab": {
          "base_uri": "https://localhost:8080/"
        },
        "id": "F6gjGG1dtehW",
        "outputId": "8d842af7-c5e6-4c10-bb48-dc3365492f49"
      },
      "id": "F6gjGG1dtehW",
      "execution_count": null,
      "outputs": [
        {
          "output_type": "stream",
          "name": "stdout",
          "text": [
            "['I', 'am', 'doing', 'great!']\n",
            "['I ', 'm doing gre', 't!']\n"
          ]
        }
      ]
    },
    {
      "cell_type": "code",
      "source": [],
      "metadata": {
        "id": "M-Xtpbo9toye"
      },
      "id": "M-Xtpbo9toye",
      "execution_count": null,
      "outputs": []
    },
    {
      "cell_type": "code",
      "execution_count": null,
      "id": "696b0364-5f7c-421b-a207-7c5e4fc7f3b9",
      "metadata": {
        "id": "696b0364-5f7c-421b-a207-7c5e4fc7f3b9"
      },
      "outputs": [],
      "source": [
        "# join function"
      ]
    },
    {
      "cell_type": "code",
      "source": [
        "words = s.split()\n",
        "print(words)"
      ],
      "metadata": {
        "colab": {
          "base_uri": "https://localhost:8080/"
        },
        "id": "UrzGi4egt38P",
        "outputId": "3ea27f0f-414d-4746-cc44-52affaa0c0e6"
      },
      "id": "UrzGi4egt38P",
      "execution_count": null,
      "outputs": [
        {
          "output_type": "stream",
          "name": "stdout",
          "text": [
            "['I', 'am', 'doing', 'great!']\n"
          ]
        }
      ]
    },
    {
      "cell_type": "code",
      "source": [
        "print(\"_\".join(words))"
      ],
      "metadata": {
        "colab": {
          "base_uri": "https://localhost:8080/"
        },
        "id": "qVQsCaDGt92R",
        "outputId": "0eebb98c-74ec-4f1e-e72d-36adff617702"
      },
      "id": "qVQsCaDGt92R",
      "execution_count": null,
      "outputs": [
        {
          "output_type": "stream",
          "name": "stdout",
          "text": [
            "I_am_doing_great!\n"
          ]
        }
      ]
    },
    {
      "cell_type": "code",
      "source": [
        "print(\"-_-\".join(words))"
      ],
      "metadata": {
        "colab": {
          "base_uri": "https://localhost:8080/"
        },
        "id": "PRceY52Vt94P",
        "outputId": "722ffa5e-abe7-4d37-e140-4d422b295487"
      },
      "id": "PRceY52Vt94P",
      "execution_count": null,
      "outputs": [
        {
          "output_type": "stream",
          "name": "stdout",
          "text": [
            "I-_-am-_-doing-_-great!\n"
          ]
        }
      ]
    },
    {
      "cell_type": "code",
      "execution_count": null,
      "id": "8fd3e859-65aa-4144-a540-58bc186e43ac",
      "metadata": {
        "id": "8fd3e859-65aa-4144-a540-58bc186e43ac"
      },
      "outputs": [],
      "source": []
    },
    {
      "cell_type": "markdown",
      "source": [
        "#### Challenge\n",
        "Write the code for a Python function expand(x) that takes a list of strings, concatenates them, and returns the resulting string repeated three times.\n",
        "\n",
        "Example 1:\n",
        "\n",
        "Input: ['string1', 'string2']\n",
        "\n",
        "Output: 'string1string2string1string2string1string2'\n",
        "\n",
        "Example 2:\n",
        "\n",
        "Input: ['a', 'b', 'c']\n",
        "\n",
        "Output: 'abcabcabc'"
      ],
      "metadata": {
        "id": "p72xqmgCuWsr"
      },
      "id": "p72xqmgCuWsr"
    },
    {
      "cell_type": "code",
      "source": [
        "def expand(ls) :\n",
        "  s = \"\".join(ls)\n",
        "  s = s * 3\n",
        "  return s"
      ],
      "metadata": {
        "id": "XF9UkydCuVvu"
      },
      "id": "XF9UkydCuVvu",
      "execution_count": null,
      "outputs": []
    },
    {
      "cell_type": "code",
      "execution_count": null,
      "id": "4db1b51d-33ea-4b4c-ae43-5ee5a0bddc34",
      "metadata": {
        "colab": {
          "base_uri": "https://localhost:8080/"
        },
        "id": "4db1b51d-33ea-4b4c-ae43-5ee5a0bddc34",
        "outputId": "3553ad88-87f0-4849-b07c-6f6c2f252d58"
      },
      "outputs": [
        {
          "output_type": "stream",
          "name": "stdout",
          "text": [
            "string1string2string1string2string1string2\n",
            "abcabcabc\n"
          ]
        }
      ],
      "source": [
        "print(expand(['string1', 'string2']))\n",
        "print(expand(['a', 'b', 'c']))"
      ]
    },
    {
      "cell_type": "code",
      "execution_count": null,
      "id": "04cd8227-494a-4e8b-8591-5b45db123bd4",
      "metadata": {
        "id": "04cd8227-494a-4e8b-8591-5b45db123bd4"
      },
      "outputs": [],
      "source": [
        "## Check if a string is purely alphabetic?\n",
        "# 1. \"RahulJanghu\"\n",
        "# 2. \"Rahul Janghu\"\n",
        "# 3. \"RahulJanghu01\""
      ]
    },
    {
      "cell_type": "code",
      "execution_count": null,
      "id": "e544dfa9-3cc2-41fd-bb5f-5bb03da67db5",
      "metadata": {
        "colab": {
          "base_uri": "https://localhost:8080/"
        },
        "id": "e544dfa9-3cc2-41fd-bb5f-5bb03da67db5",
        "outputId": "1870fcdf-359a-498c-908a-dd2dd0dd74d4"
      },
      "outputs": [
        {
          "output_type": "execute_result",
          "data": {
            "text/plain": [
              "True"
            ]
          },
          "metadata": {},
          "execution_count": 40
        }
      ],
      "source": [
        "\"RahulJanghu\".isalpha()"
      ]
    },
    {
      "cell_type": "code",
      "source": [
        "\"Rahul Janghu\".isalpha()"
      ],
      "metadata": {
        "colab": {
          "base_uri": "https://localhost:8080/"
        },
        "id": "Ml4K8ZdkfaVS",
        "outputId": "4069589a-4e30-45ec-81ed-2b1a1f837b31"
      },
      "id": "Ml4K8ZdkfaVS",
      "execution_count": null,
      "outputs": [
        {
          "output_type": "execute_result",
          "data": {
            "text/plain": [
              "False"
            ]
          },
          "metadata": {},
          "execution_count": 41
        }
      ]
    },
    {
      "cell_type": "code",
      "source": [
        "\"RahulJanghu01\".isalpha()"
      ],
      "metadata": {
        "colab": {
          "base_uri": "https://localhost:8080/"
        },
        "id": "a3T5DAY1faXS",
        "outputId": "5a876d99-08d9-47dd-f776-3d4e4f1a07e2"
      },
      "id": "a3T5DAY1faXS",
      "execution_count": null,
      "outputs": [
        {
          "output_type": "execute_result",
          "data": {
            "text/plain": [
              "False"
            ]
          },
          "metadata": {},
          "execution_count": 42
        }
      ]
    },
    {
      "cell_type": "code",
      "source": [
        "print(\"1\".isdigit())\n",
        "print(\".2\".isdigit())\n",
        "print('a'.isdigit())"
      ],
      "metadata": {
        "colab": {
          "base_uri": "https://localhost:8080/"
        },
        "id": "8uyd8g27ww1I",
        "outputId": "66e8e6e5-1596-47d6-a6cd-e122ed3353bd"
      },
      "id": "8uyd8g27ww1I",
      "execution_count": null,
      "outputs": [
        {
          "output_type": "stream",
          "name": "stdout",
          "text": [
            "True\n",
            "False\n",
            "False\n"
          ]
        }
      ]
    },
    {
      "cell_type": "code",
      "execution_count": null,
      "id": "bcd96cc4-7c5e-4b7b-a714-1121d79c1c7d",
      "metadata": {
        "id": "bcd96cc4-7c5e-4b7b-a714-1121d79c1c7d"
      },
      "outputs": [],
      "source": [
        "# join\n",
        "# isalpha\n",
        "# isdigit\n",
        "# islower\n",
        "# isupper\n",
        "# isspace\n",
        "# lower\n",
        "# upper"
      ]
    },
    {
      "cell_type": "code",
      "execution_count": null,
      "id": "68feab9b-57ef-43c0-8981-5df8616b2f25",
      "metadata": {
        "colab": {
          "base_uri": "https://localhost:8080/"
        },
        "id": "68feab9b-57ef-43c0-8981-5df8616b2f25",
        "outputId": "ec5e6782-3af2-473a-c37c-e27e6d5b1f91"
      },
      "outputs": [
        {
          "output_type": "stream",
          "name": "stdout",
          "text": [
            "True\n",
            "False\n"
          ]
        }
      ],
      "source": [
        "print(\" \".isspace())\n",
        "print(\"1\".isspace())"
      ]
    },
    {
      "cell_type": "code",
      "execution_count": null,
      "id": "de0bf1d3-e5e0-4ae5-ab1f-0f2c8d5726fc",
      "metadata": {
        "id": "de0bf1d3-e5e0-4ae5-ab1f-0f2c8d5726fc"
      },
      "outputs": [],
      "source": []
    },
    {
      "cell_type": "markdown",
      "id": "d5efe68f-79d3-4219-a8e4-c31e83ea5d97",
      "metadata": {
        "id": "d5efe68f-79d3-4219-a8e4-c31e83ea5d97"
      },
      "source": [
        "### List comprehension"
      ]
    },
    {
      "cell_type": "code",
      "execution_count": null,
      "id": "6ddece36-2f84-4ef4-a12e-c752ff86412e",
      "metadata": {
        "id": "6ddece36-2f84-4ef4-a12e-c752ff86412e"
      },
      "outputs": [],
      "source": [
        "# Given an integer N as input, create a list with elements from 0 to N-1"
      ]
    },
    {
      "cell_type": "code",
      "source": [
        "ls = []\n",
        "n = 5\n",
        "\n",
        "for num in range(n) :\n",
        "  ls.append(num)\n",
        "\n",
        "print(ls)"
      ],
      "metadata": {
        "colab": {
          "base_uri": "https://localhost:8080/"
        },
        "id": "04BTIwEAfe6F",
        "outputId": "aff30da0-e9a8-4bf6-b1d8-f143b11b00dd"
      },
      "id": "04BTIwEAfe6F",
      "execution_count": null,
      "outputs": [
        {
          "output_type": "stream",
          "name": "stdout",
          "text": [
            "[0, 1, 2, 3, 4]\n"
          ]
        }
      ]
    },
    {
      "cell_type": "code",
      "source": [
        "print(list(range(n)))"
      ],
      "metadata": {
        "colab": {
          "base_uri": "https://localhost:8080/"
        },
        "id": "UWw3jlt4fe72",
        "outputId": "e791ef52-6a35-4638-f85d-32a9cee13c3f"
      },
      "id": "UWw3jlt4fe72",
      "execution_count": null,
      "outputs": [
        {
          "output_type": "stream",
          "name": "stdout",
          "text": [
            "[0, 1, 2, 3, 4]\n"
          ]
        }
      ]
    },
    {
      "cell_type": "code",
      "source": [
        "# Given an integer N as input, create a list with square of elements from 1 to N\n",
        "# Input : 3\n",
        "# Output : [1, 4, 9]"
      ],
      "metadata": {
        "id": "7Wqj2pjRy7D2"
      },
      "id": "7Wqj2pjRy7D2",
      "execution_count": null,
      "outputs": []
    },
    {
      "cell_type": "code",
      "source": [
        "n = 4\n",
        "\n",
        "ls = []\n",
        "\n",
        "for i in range(1, n+1) :\n",
        "  ls.append(i**2)\n",
        "\n",
        "print(ls)"
      ],
      "metadata": {
        "colab": {
          "base_uri": "https://localhost:8080/"
        },
        "id": "DiJPw2jQ0NcV",
        "outputId": "d84dc581-533d-4313-e87f-7cc213e5d872"
      },
      "id": "DiJPw2jQ0NcV",
      "execution_count": null,
      "outputs": [
        {
          "output_type": "stream",
          "name": "stdout",
          "text": [
            "[1, 4, 9, 16]\n"
          ]
        }
      ]
    },
    {
      "cell_type": "code",
      "source": [],
      "metadata": {
        "id": "fe_ONxpx0fEy"
      },
      "id": "fe_ONxpx0fEy",
      "execution_count": null,
      "outputs": []
    },
    {
      "cell_type": "code",
      "source": [
        "ls = [i for i in range(n)]\n",
        "print(ls)"
      ],
      "metadata": {
        "colab": {
          "base_uri": "https://localhost:8080/"
        },
        "id": "NTWdMUld0fHO",
        "outputId": "06b04d1c-b7d5-4209-d5d7-f7737c0bbf03"
      },
      "id": "NTWdMUld0fHO",
      "execution_count": null,
      "outputs": [
        {
          "output_type": "stream",
          "name": "stdout",
          "text": [
            "[0, 1, 2, 3]\n"
          ]
        }
      ]
    },
    {
      "cell_type": "code",
      "source": [
        "ls = [i**2 for i in range(n)]\n",
        "print(ls)"
      ],
      "metadata": {
        "colab": {
          "base_uri": "https://localhost:8080/"
        },
        "id": "uNcqWGXr0sTS",
        "outputId": "34a68abe-1a39-404d-bb8f-4bef342cb263"
      },
      "id": "uNcqWGXr0sTS",
      "execution_count": null,
      "outputs": [
        {
          "output_type": "stream",
          "name": "stdout",
          "text": [
            "[0, 1, 4, 9]\n"
          ]
        }
      ]
    },
    {
      "cell_type": "code",
      "source": [],
      "metadata": {
        "id": "T2TR12qz2De6"
      },
      "id": "T2TR12qz2De6",
      "execution_count": null,
      "outputs": []
    },
    {
      "cell_type": "code",
      "source": [],
      "metadata": {
        "id": "gCLpiJsq26iU"
      },
      "id": "gCLpiJsq26iU",
      "execution_count": null,
      "outputs": []
    },
    {
      "cell_type": "code",
      "source": [
        "# 1. Find the largest, let's say mx\n",
        "# 2. Iterate over the list again\n",
        "#     a. Check if the current value is less than mx and greater than current max\n",
        "#     b. If yes, update current max\n",
        "\n",
        "ls = [1, 2, 3, 3, 4, 2, 1]\n",
        "mx = max(ls)\n",
        "\n",
        "assumed_mx = float(\"-inf\")\n",
        "for val in ls :\n",
        "  if val < mx and val > assumed_mx :\n",
        "    assumed_mx = val\n",
        "\n",
        "print(assumed_mx)"
      ],
      "metadata": {
        "colab": {
          "base_uri": "https://localhost:8080/"
        },
        "id": "0elZI1zA26kK",
        "outputId": "a920289b-84fc-4540-927e-9373b00f8cd7"
      },
      "id": "0elZI1zA26kK",
      "execution_count": null,
      "outputs": [
        {
          "output_type": "stream",
          "name": "stdout",
          "text": [
            "3\n"
          ]
        }
      ]
    },
    {
      "cell_type": "code",
      "source": [
        "# hackerank -> Learn Python section, Learn DSA ( Very easy, Easy )"
      ],
      "metadata": {
        "id": "Qkji8OjQ5yQF"
      },
      "id": "Qkji8OjQ5yQF",
      "execution_count": null,
      "outputs": []
    }
  ],
  "metadata": {
    "kernelspec": {
      "display_name": "Python 3 (ipykernel)",
      "language": "python",
      "name": "python3"
    },
    "language_info": {
      "codemirror_mode": {
        "name": "ipython",
        "version": 3
      },
      "file_extension": ".py",
      "mimetype": "text/x-python",
      "name": "python",
      "nbconvert_exporter": "python",
      "pygments_lexer": "ipython3",
      "version": "3.9.7"
    },
    "colab": {
      "provenance": [],
      "include_colab_link": true
    }
  },
  "nbformat": 4,
  "nbformat_minor": 5
}